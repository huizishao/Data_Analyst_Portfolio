{
 "cells": [
  {
   "cell_type": "markdown",
   "metadata": {},
   "source": [
    "## Data Wrangling for WeRateDog\n",
    "\n",
    "\n",
    "## Table of Contents\n",
    "- [Introduction](#intro)\n",
    "- [Part I - Data](#Data)\n",
    "- [Part II - Gathering](#Gathering)\n",
    "- [Part III - Accessing](#Accessing)\n",
    "- [Part IV - Cleaning](#Cleaning)\n",
    "- [Part V - Analyzing](#Analyzing)\n",
    "- [Part VI - Conclusion](#Conclusion)\n",
    "\n",
    "\n",
    "\n",
    "<a id='intro'></a>\n",
    "### Introduction\n",
    "\n",
    "The dataset wrangling (and analyzing and visualizing) is the tweet archive of Twitter user @dog_rates, also known as WeRateDogs. WeRateDogs is a Twitter account that rates people's dogs with a humorous comment about the dog. These ratings almost always have a denominator of 10. The numerators almost always greater than 10. 11/10, 12/10, 13/10, etc. WeRateDogs has over 4 million followers and has received international media coverage.\n",
    "\n",
    "<a id='Data'></a>\n",
    "#### Part I - Data\n"
   ]
  },
  {
   "cell_type": "markdown",
   "metadata": {},
   "source": [
    "- WeRateDogs Twitter archive （twitter-archive-enhanced.csv）\n",
    "- tweet image predictions (image_predictions.tsv)\n",
    "- Query from API (tweet_json.txt)"
   ]
  },
  {
   "cell_type": "markdown",
   "metadata": {},
   "source": [
    "<a id='Gathering'></a>\n",
    "#### Part II - Gathering\n",
    "To get started, let's import our libraries."
   ]
  },
  {
   "cell_type": "code",
   "execution_count": 616,
   "metadata": {},
   "outputs": [],
   "source": [
    "import pandas as pd\n",
    "import numpy as np\n",
    "\n",
    "import requests #download data\n",
    "import tweepy #twitter api\n",
    "import json #handle json data\n",
    "import re #text processing\n",
    "\n",
    "import matplotlib.pyplot as plt\n",
    "import seaborn as sb \n",
    "%matplotlib inline"
   ]
  },
  {
   "cell_type": "markdown",
   "metadata": {},
   "source": [
    "##### 1. WeRateDogs Twitter archive （twitter-archive-enhanced.csv）"
   ]
  },
  {
   "cell_type": "code",
   "execution_count": 452,
   "metadata": {},
   "outputs": [
    {
     "data": {
      "text/html": [
       "<div>\n",
       "<style scoped>\n",
       "    .dataframe tbody tr th:only-of-type {\n",
       "        vertical-align: middle;\n",
       "    }\n",
       "\n",
       "    .dataframe tbody tr th {\n",
       "        vertical-align: top;\n",
       "    }\n",
       "\n",
       "    .dataframe thead th {\n",
       "        text-align: right;\n",
       "    }\n",
       "</style>\n",
       "<table border=\"1\" class=\"dataframe\">\n",
       "  <thead>\n",
       "    <tr style=\"text-align: right;\">\n",
       "      <th></th>\n",
       "      <th>tweet_id</th>\n",
       "      <th>in_reply_to_status_id</th>\n",
       "      <th>in_reply_to_user_id</th>\n",
       "      <th>timestamp</th>\n",
       "      <th>source</th>\n",
       "      <th>text</th>\n",
       "      <th>retweeted_status_id</th>\n",
       "      <th>retweeted_status_user_id</th>\n",
       "      <th>retweeted_status_timestamp</th>\n",
       "      <th>expanded_urls</th>\n",
       "      <th>rating_numerator</th>\n",
       "      <th>rating_denominator</th>\n",
       "      <th>name</th>\n",
       "      <th>doggo</th>\n",
       "      <th>floofer</th>\n",
       "      <th>pupper</th>\n",
       "      <th>puppo</th>\n",
       "    </tr>\n",
       "  </thead>\n",
       "  <tbody>\n",
       "    <tr>\n",
       "      <th>0</th>\n",
       "      <td>892420643555336193</td>\n",
       "      <td>NaN</td>\n",
       "      <td>NaN</td>\n",
       "      <td>2017-08-01 16:23:56 +0000</td>\n",
       "      <td>&lt;a href=\"http://twitter.com/download/iphone\" r...</td>\n",
       "      <td>This is Phineas. He's a mystical boy. Only eve...</td>\n",
       "      <td>NaN</td>\n",
       "      <td>NaN</td>\n",
       "      <td>NaN</td>\n",
       "      <td>https://twitter.com/dog_rates/status/892420643...</td>\n",
       "      <td>13</td>\n",
       "      <td>10</td>\n",
       "      <td>Phineas</td>\n",
       "      <td>None</td>\n",
       "      <td>None</td>\n",
       "      <td>None</td>\n",
       "      <td>None</td>\n",
       "    </tr>\n",
       "    <tr>\n",
       "      <th>1</th>\n",
       "      <td>892177421306343426</td>\n",
       "      <td>NaN</td>\n",
       "      <td>NaN</td>\n",
       "      <td>2017-08-01 00:17:27 +0000</td>\n",
       "      <td>&lt;a href=\"http://twitter.com/download/iphone\" r...</td>\n",
       "      <td>This is Tilly. She's just checking pup on you....</td>\n",
       "      <td>NaN</td>\n",
       "      <td>NaN</td>\n",
       "      <td>NaN</td>\n",
       "      <td>https://twitter.com/dog_rates/status/892177421...</td>\n",
       "      <td>13</td>\n",
       "      <td>10</td>\n",
       "      <td>Tilly</td>\n",
       "      <td>None</td>\n",
       "      <td>None</td>\n",
       "      <td>None</td>\n",
       "      <td>None</td>\n",
       "    </tr>\n",
       "    <tr>\n",
       "      <th>2</th>\n",
       "      <td>891815181378084864</td>\n",
       "      <td>NaN</td>\n",
       "      <td>NaN</td>\n",
       "      <td>2017-07-31 00:18:03 +0000</td>\n",
       "      <td>&lt;a href=\"http://twitter.com/download/iphone\" r...</td>\n",
       "      <td>This is Archie. He is a rare Norwegian Pouncin...</td>\n",
       "      <td>NaN</td>\n",
       "      <td>NaN</td>\n",
       "      <td>NaN</td>\n",
       "      <td>https://twitter.com/dog_rates/status/891815181...</td>\n",
       "      <td>12</td>\n",
       "      <td>10</td>\n",
       "      <td>Archie</td>\n",
       "      <td>None</td>\n",
       "      <td>None</td>\n",
       "      <td>None</td>\n",
       "      <td>None</td>\n",
       "    </tr>\n",
       "    <tr>\n",
       "      <th>3</th>\n",
       "      <td>891689557279858688</td>\n",
       "      <td>NaN</td>\n",
       "      <td>NaN</td>\n",
       "      <td>2017-07-30 15:58:51 +0000</td>\n",
       "      <td>&lt;a href=\"http://twitter.com/download/iphone\" r...</td>\n",
       "      <td>This is Darla. She commenced a snooze mid meal...</td>\n",
       "      <td>NaN</td>\n",
       "      <td>NaN</td>\n",
       "      <td>NaN</td>\n",
       "      <td>https://twitter.com/dog_rates/status/891689557...</td>\n",
       "      <td>13</td>\n",
       "      <td>10</td>\n",
       "      <td>Darla</td>\n",
       "      <td>None</td>\n",
       "      <td>None</td>\n",
       "      <td>None</td>\n",
       "      <td>None</td>\n",
       "    </tr>\n",
       "    <tr>\n",
       "      <th>4</th>\n",
       "      <td>891327558926688256</td>\n",
       "      <td>NaN</td>\n",
       "      <td>NaN</td>\n",
       "      <td>2017-07-29 16:00:24 +0000</td>\n",
       "      <td>&lt;a href=\"http://twitter.com/download/iphone\" r...</td>\n",
       "      <td>This is Franklin. He would like you to stop ca...</td>\n",
       "      <td>NaN</td>\n",
       "      <td>NaN</td>\n",
       "      <td>NaN</td>\n",
       "      <td>https://twitter.com/dog_rates/status/891327558...</td>\n",
       "      <td>12</td>\n",
       "      <td>10</td>\n",
       "      <td>Franklin</td>\n",
       "      <td>None</td>\n",
       "      <td>None</td>\n",
       "      <td>None</td>\n",
       "      <td>None</td>\n",
       "    </tr>\n",
       "  </tbody>\n",
       "</table>\n",
       "</div>"
      ],
      "text/plain": [
       "             tweet_id  in_reply_to_status_id  in_reply_to_user_id  \\\n",
       "0  892420643555336193                    NaN                  NaN   \n",
       "1  892177421306343426                    NaN                  NaN   \n",
       "2  891815181378084864                    NaN                  NaN   \n",
       "3  891689557279858688                    NaN                  NaN   \n",
       "4  891327558926688256                    NaN                  NaN   \n",
       "\n",
       "                   timestamp  \\\n",
       "0  2017-08-01 16:23:56 +0000   \n",
       "1  2017-08-01 00:17:27 +0000   \n",
       "2  2017-07-31 00:18:03 +0000   \n",
       "3  2017-07-30 15:58:51 +0000   \n",
       "4  2017-07-29 16:00:24 +0000   \n",
       "\n",
       "                                              source  \\\n",
       "0  <a href=\"http://twitter.com/download/iphone\" r...   \n",
       "1  <a href=\"http://twitter.com/download/iphone\" r...   \n",
       "2  <a href=\"http://twitter.com/download/iphone\" r...   \n",
       "3  <a href=\"http://twitter.com/download/iphone\" r...   \n",
       "4  <a href=\"http://twitter.com/download/iphone\" r...   \n",
       "\n",
       "                                                text  retweeted_status_id  \\\n",
       "0  This is Phineas. He's a mystical boy. Only eve...                  NaN   \n",
       "1  This is Tilly. She's just checking pup on you....                  NaN   \n",
       "2  This is Archie. He is a rare Norwegian Pouncin...                  NaN   \n",
       "3  This is Darla. She commenced a snooze mid meal...                  NaN   \n",
       "4  This is Franklin. He would like you to stop ca...                  NaN   \n",
       "\n",
       "   retweeted_status_user_id retweeted_status_timestamp  \\\n",
       "0                       NaN                        NaN   \n",
       "1                       NaN                        NaN   \n",
       "2                       NaN                        NaN   \n",
       "3                       NaN                        NaN   \n",
       "4                       NaN                        NaN   \n",
       "\n",
       "                                       expanded_urls  rating_numerator  \\\n",
       "0  https://twitter.com/dog_rates/status/892420643...                13   \n",
       "1  https://twitter.com/dog_rates/status/892177421...                13   \n",
       "2  https://twitter.com/dog_rates/status/891815181...                12   \n",
       "3  https://twitter.com/dog_rates/status/891689557...                13   \n",
       "4  https://twitter.com/dog_rates/status/891327558...                12   \n",
       "\n",
       "   rating_denominator      name doggo floofer pupper puppo  \n",
       "0                  10   Phineas  None    None   None  None  \n",
       "1                  10     Tilly  None    None   None  None  \n",
       "2                  10    Archie  None    None   None  None  \n",
       "3                  10     Darla  None    None   None  None  \n",
       "4                  10  Franklin  None    None   None  None  "
      ]
     },
     "execution_count": 452,
     "metadata": {},
     "output_type": "execute_result"
    }
   ],
   "source": [
    "df_twitter = pd.read_csv('twitter-archive-enhanced.csv')\n",
    "df_twitter.head()"
   ]
  },
  {
   "cell_type": "markdown",
   "metadata": {},
   "source": [
    "##### 2. tweet image predictions （image_predictions.tsv）"
   ]
  },
  {
   "cell_type": "code",
   "execution_count": 453,
   "metadata": {},
   "outputs": [
    {
     "data": {
      "text/plain": [
       "335079"
      ]
     },
     "execution_count": 453,
     "metadata": {},
     "output_type": "execute_result"
    }
   ],
   "source": [
    "url = 'https://d17h27t6h515a5.cloudfront.net/topher/2017/August/599fd2ad_image-predictions/image-predictions.tsv'\n",
    "response = requests.get(url)\n",
    "open('image_predictions.tsv', 'wb').write(response.content)"
   ]
  },
  {
   "cell_type": "code",
   "execution_count": 454,
   "metadata": {},
   "outputs": [
    {
     "data": {
      "text/html": [
       "<div>\n",
       "<style scoped>\n",
       "    .dataframe tbody tr th:only-of-type {\n",
       "        vertical-align: middle;\n",
       "    }\n",
       "\n",
       "    .dataframe tbody tr th {\n",
       "        vertical-align: top;\n",
       "    }\n",
       "\n",
       "    .dataframe thead th {\n",
       "        text-align: right;\n",
       "    }\n",
       "</style>\n",
       "<table border=\"1\" class=\"dataframe\">\n",
       "  <thead>\n",
       "    <tr style=\"text-align: right;\">\n",
       "      <th></th>\n",
       "      <th>tweet_id</th>\n",
       "      <th>jpg_url</th>\n",
       "      <th>img_num</th>\n",
       "      <th>p1</th>\n",
       "      <th>p1_conf</th>\n",
       "      <th>p1_dog</th>\n",
       "      <th>p2</th>\n",
       "      <th>p2_conf</th>\n",
       "      <th>p2_dog</th>\n",
       "      <th>p3</th>\n",
       "      <th>p3_conf</th>\n",
       "      <th>p3_dog</th>\n",
       "    </tr>\n",
       "  </thead>\n",
       "  <tbody>\n",
       "    <tr>\n",
       "      <th>0</th>\n",
       "      <td>666020888022790149</td>\n",
       "      <td>https://pbs.twimg.com/media/CT4udn0WwAA0aMy.jpg</td>\n",
       "      <td>1</td>\n",
       "      <td>Welsh_springer_spaniel</td>\n",
       "      <td>0.465074</td>\n",
       "      <td>True</td>\n",
       "      <td>collie</td>\n",
       "      <td>0.156665</td>\n",
       "      <td>True</td>\n",
       "      <td>Shetland_sheepdog</td>\n",
       "      <td>0.061428</td>\n",
       "      <td>True</td>\n",
       "    </tr>\n",
       "    <tr>\n",
       "      <th>1</th>\n",
       "      <td>666029285002620928</td>\n",
       "      <td>https://pbs.twimg.com/media/CT42GRgUYAA5iDo.jpg</td>\n",
       "      <td>1</td>\n",
       "      <td>redbone</td>\n",
       "      <td>0.506826</td>\n",
       "      <td>True</td>\n",
       "      <td>miniature_pinscher</td>\n",
       "      <td>0.074192</td>\n",
       "      <td>True</td>\n",
       "      <td>Rhodesian_ridgeback</td>\n",
       "      <td>0.072010</td>\n",
       "      <td>True</td>\n",
       "    </tr>\n",
       "    <tr>\n",
       "      <th>2</th>\n",
       "      <td>666033412701032449</td>\n",
       "      <td>https://pbs.twimg.com/media/CT4521TWwAEvMyu.jpg</td>\n",
       "      <td>1</td>\n",
       "      <td>German_shepherd</td>\n",
       "      <td>0.596461</td>\n",
       "      <td>True</td>\n",
       "      <td>malinois</td>\n",
       "      <td>0.138584</td>\n",
       "      <td>True</td>\n",
       "      <td>bloodhound</td>\n",
       "      <td>0.116197</td>\n",
       "      <td>True</td>\n",
       "    </tr>\n",
       "    <tr>\n",
       "      <th>3</th>\n",
       "      <td>666044226329800704</td>\n",
       "      <td>https://pbs.twimg.com/media/CT5Dr8HUEAA-lEu.jpg</td>\n",
       "      <td>1</td>\n",
       "      <td>Rhodesian_ridgeback</td>\n",
       "      <td>0.408143</td>\n",
       "      <td>True</td>\n",
       "      <td>redbone</td>\n",
       "      <td>0.360687</td>\n",
       "      <td>True</td>\n",
       "      <td>miniature_pinscher</td>\n",
       "      <td>0.222752</td>\n",
       "      <td>True</td>\n",
       "    </tr>\n",
       "    <tr>\n",
       "      <th>4</th>\n",
       "      <td>666049248165822465</td>\n",
       "      <td>https://pbs.twimg.com/media/CT5IQmsXIAAKY4A.jpg</td>\n",
       "      <td>1</td>\n",
       "      <td>miniature_pinscher</td>\n",
       "      <td>0.560311</td>\n",
       "      <td>True</td>\n",
       "      <td>Rottweiler</td>\n",
       "      <td>0.243682</td>\n",
       "      <td>True</td>\n",
       "      <td>Doberman</td>\n",
       "      <td>0.154629</td>\n",
       "      <td>True</td>\n",
       "    </tr>\n",
       "  </tbody>\n",
       "</table>\n",
       "</div>"
      ],
      "text/plain": [
       "             tweet_id                                          jpg_url  \\\n",
       "0  666020888022790149  https://pbs.twimg.com/media/CT4udn0WwAA0aMy.jpg   \n",
       "1  666029285002620928  https://pbs.twimg.com/media/CT42GRgUYAA5iDo.jpg   \n",
       "2  666033412701032449  https://pbs.twimg.com/media/CT4521TWwAEvMyu.jpg   \n",
       "3  666044226329800704  https://pbs.twimg.com/media/CT5Dr8HUEAA-lEu.jpg   \n",
       "4  666049248165822465  https://pbs.twimg.com/media/CT5IQmsXIAAKY4A.jpg   \n",
       "\n",
       "   img_num                      p1   p1_conf  p1_dog                  p2  \\\n",
       "0        1  Welsh_springer_spaniel  0.465074    True              collie   \n",
       "1        1                 redbone  0.506826    True  miniature_pinscher   \n",
       "2        1         German_shepherd  0.596461    True            malinois   \n",
       "3        1     Rhodesian_ridgeback  0.408143    True             redbone   \n",
       "4        1      miniature_pinscher  0.560311    True          Rottweiler   \n",
       "\n",
       "    p2_conf  p2_dog                   p3   p3_conf  p3_dog  \n",
       "0  0.156665    True    Shetland_sheepdog  0.061428    True  \n",
       "1  0.074192    True  Rhodesian_ridgeback  0.072010    True  \n",
       "2  0.138584    True           bloodhound  0.116197    True  \n",
       "3  0.360687    True   miniature_pinscher  0.222752    True  \n",
       "4  0.243682    True             Doberman  0.154629    True  "
      ]
     },
     "execution_count": 454,
     "metadata": {},
     "output_type": "execute_result"
    }
   ],
   "source": [
    "df_predict = pd.read_csv(\"image_predictions.tsv\", sep='\\t')\n",
    "df_predict.head()"
   ]
  },
  {
   "cell_type": "markdown",
   "metadata": {},
   "source": [
    "##### 3. Query from API (tweet_json.txt)"
   ]
  },
  {
   "cell_type": "raw",
   "metadata": {},
   "source": [
    "\n",
    "import tweepy\n",
    "from tweepy import OAuthHandler\n",
    "import json\n",
    "from timeit import default_timer as timer\n",
    "\n",
    "# Query Twitter API for each tweet in the Twitter archive and save JSON in a text file\n",
    "# These are hidden to comply with Twitter's API terms and conditions\n",
    "consumer_key = 'HIDDEN'\n",
    "consumer_secret = 'HIDDEN'\n",
    "access_token = 'HIDDEN'\n",
    "access_secret = 'HIDDEN'\n",
    "\n",
    "auth = OAuthHandler(consumer_key, consumer_secret)\n",
    "auth.set_access_token(access_token, access_secret)\n",
    "\n",
    "api = tweepy.API(auth, wait_on_rate_limit=True)\n",
    "\n",
    "# NOTE TO STUDENT WITH MOBILE VERIFICATION ISSUES:\n",
    "# df_1 is a DataFrame with the twitter_archive_enhanced.csv file. You may have to\n",
    "# change line 17 to match the name of your DataFrame with twitter_archive_enhanced.csv\n",
    "# NOTE TO REVIEWER: this student had mobile verification issues so the following\n",
    "# Twitter API code was sent to this student from a Udacity instructor\n",
    "# Tweet IDs for which to gather additional data via Twitter's API\n",
    "\n",
    "tweet_ids = df_twitter.tweet_id.values\n",
    "len(tweet_ids)\n",
    "\n",
    "# Query Twitter's API for JSON data for each tweet ID in the Twitter archive\n",
    "count = 0\n",
    "fails_dict = {}\n",
    "start = timer()\n",
    "# Save each tweet's returned JSON as a new line in a .txt file\n",
    "with open('tweet_json.txt', 'w') as outfile:\n",
    "    # This loop will likely take 20-30 minutes to run because of Twitter's rate limit\n",
    "    for tweet_id in tweet_ids:\n",
    "        count += 1\n",
    "        #print(str(count) + \": \" + str(tweet_id))\n",
    "        try:\n",
    "            tweet = api.get_status(tweet_id, tweet_mode='extended')\n",
    "            #print(\"Success\")\n",
    "            json.dump(tweet._json, outfile)\n",
    "            outfile.write('\\n')\n",
    "        except tweepy.TweepError as e:\n",
    "            #print(\"Fail\")\n",
    "            fails_dict[tweet_id] = e\n",
    "            pass\n",
    "end = timer()\n",
    "#print(end - start)\n",
    "#print(fails_dict)\n"
   ]
  },
  {
   "cell_type": "code",
   "execution_count": 455,
   "metadata": {},
   "outputs": [],
   "source": [
    "lists = '{ \"data\":['\n",
    "count = 0\n",
    "with open('tweet_json.txt') as file:\n",
    "    for line in file:\n",
    "    \n",
    "        if(count == 0):\n",
    "            lists += line + '\\n'\n",
    "        else:\n",
    "            lists += ',' + line + '\\n'\n",
    "        count += 1\n",
    "lists += '] }'\n",
    "with open('tweet_json.txt', 'w') as file:\n",
    "    file.write(lists)\n",
    "data = ''\n",
    "with open('tweet_json.txt') as file:\n",
    "    data = json.load(file)\n"
   ]
  },
  {
   "cell_type": "code",
   "execution_count": 456,
   "metadata": {},
   "outputs": [
    {
     "data": {
      "text/plain": [
       "dict_keys(['data'])"
      ]
     },
     "execution_count": 456,
     "metadata": {},
     "output_type": "execute_result"
    }
   ],
   "source": [
    "pd.DataFrame.from_dict(data)\n",
    "#df['retweet_count'] = data['id'].apply(lambda x: x.get('retweet_count'))\n",
    "data.keys()"
   ]
  },
  {
   "cell_type": "code",
   "execution_count": 457,
   "metadata": {},
   "outputs": [],
   "source": [
    "tweets_info = []\n",
    "test = data['data']\n",
    "for data_entry in data['data']:\n",
    "    tweets_info.append({\n",
    "        'tweet_id':data_entry['id_str'],\n",
    "        'retweet_count': data_entry['retweet_count'], \n",
    "        'favorite_count':data_entry['favorite_count'], \n",
    "        'follower_count': data_entry['user']['followers_count']\n",
    "                        })\n"
   ]
  },
  {
   "cell_type": "code",
   "execution_count": 458,
   "metadata": {},
   "outputs": [
    {
     "data": {
      "text/html": [
       "<div>\n",
       "<style scoped>\n",
       "    .dataframe tbody tr th:only-of-type {\n",
       "        vertical-align: middle;\n",
       "    }\n",
       "\n",
       "    .dataframe tbody tr th {\n",
       "        vertical-align: top;\n",
       "    }\n",
       "\n",
       "    .dataframe thead th {\n",
       "        text-align: right;\n",
       "    }\n",
       "</style>\n",
       "<table border=\"1\" class=\"dataframe\">\n",
       "  <thead>\n",
       "    <tr style=\"text-align: right;\">\n",
       "      <th></th>\n",
       "      <th>tweet_id</th>\n",
       "      <th>retweet_count</th>\n",
       "      <th>favorite_count</th>\n",
       "      <th>follower_count</th>\n",
       "    </tr>\n",
       "  </thead>\n",
       "  <tbody>\n",
       "    <tr>\n",
       "      <th>0</th>\n",
       "      <td>892420643555336193</td>\n",
       "      <td>8853</td>\n",
       "      <td>39467</td>\n",
       "      <td>3200889</td>\n",
       "    </tr>\n",
       "    <tr>\n",
       "      <th>1</th>\n",
       "      <td>892177421306343426</td>\n",
       "      <td>6514</td>\n",
       "      <td>33819</td>\n",
       "      <td>3200889</td>\n",
       "    </tr>\n",
       "    <tr>\n",
       "      <th>2</th>\n",
       "      <td>891815181378084864</td>\n",
       "      <td>4328</td>\n",
       "      <td>25461</td>\n",
       "      <td>3200889</td>\n",
       "    </tr>\n",
       "    <tr>\n",
       "      <th>3</th>\n",
       "      <td>891689557279858688</td>\n",
       "      <td>8964</td>\n",
       "      <td>42908</td>\n",
       "      <td>3200889</td>\n",
       "    </tr>\n",
       "    <tr>\n",
       "      <th>4</th>\n",
       "      <td>891327558926688256</td>\n",
       "      <td>9774</td>\n",
       "      <td>41048</td>\n",
       "      <td>3200889</td>\n",
       "    </tr>\n",
       "    <tr>\n",
       "      <th>...</th>\n",
       "      <td>...</td>\n",
       "      <td>...</td>\n",
       "      <td>...</td>\n",
       "      <td>...</td>\n",
       "    </tr>\n",
       "    <tr>\n",
       "      <th>2349</th>\n",
       "      <td>666049248165822465</td>\n",
       "      <td>41</td>\n",
       "      <td>111</td>\n",
       "      <td>3201018</td>\n",
       "    </tr>\n",
       "    <tr>\n",
       "      <th>2350</th>\n",
       "      <td>666044226329800704</td>\n",
       "      <td>147</td>\n",
       "      <td>311</td>\n",
       "      <td>3201018</td>\n",
       "    </tr>\n",
       "    <tr>\n",
       "      <th>2351</th>\n",
       "      <td>666033412701032449</td>\n",
       "      <td>47</td>\n",
       "      <td>128</td>\n",
       "      <td>3201018</td>\n",
       "    </tr>\n",
       "    <tr>\n",
       "      <th>2352</th>\n",
       "      <td>666029285002620928</td>\n",
       "      <td>48</td>\n",
       "      <td>132</td>\n",
       "      <td>3201018</td>\n",
       "    </tr>\n",
       "    <tr>\n",
       "      <th>2353</th>\n",
       "      <td>666020888022790149</td>\n",
       "      <td>532</td>\n",
       "      <td>2535</td>\n",
       "      <td>3201018</td>\n",
       "    </tr>\n",
       "  </tbody>\n",
       "</table>\n",
       "<p>2354 rows × 4 columns</p>\n",
       "</div>"
      ],
      "text/plain": [
       "                tweet_id  retweet_count  favorite_count  follower_count\n",
       "0     892420643555336193           8853           39467         3200889\n",
       "1     892177421306343426           6514           33819         3200889\n",
       "2     891815181378084864           4328           25461         3200889\n",
       "3     891689557279858688           8964           42908         3200889\n",
       "4     891327558926688256           9774           41048         3200889\n",
       "...                  ...            ...             ...             ...\n",
       "2349  666049248165822465             41             111         3201018\n",
       "2350  666044226329800704            147             311         3201018\n",
       "2351  666033412701032449             47             128         3201018\n",
       "2352  666029285002620928             48             132         3201018\n",
       "2353  666020888022790149            532            2535         3201018\n",
       "\n",
       "[2354 rows x 4 columns]"
      ]
     },
     "execution_count": 458,
     "metadata": {},
     "output_type": "execute_result"
    }
   ],
   "source": [
    "df_tweets_info = pd.DataFrame(tweets_info, columns = ['tweet_id', 'retweet_count', 'favorite_count','follower_count'])\n",
    "df_tweets_info"
   ]
  },
  {
   "cell_type": "markdown",
   "metadata": {},
   "source": [
    "<a id='Accessing'></a>\n",
    "#### Part III - Accessing\n"
   ]
  },
  {
   "cell_type": "markdown",
   "metadata": {},
   "source": [
    "#### 1. df_predict columns:\n",
    "Total of 2075 rows and 12 columns, with no infomation lost \n",
    "\n",
    "- tweet_id: tweet_id is the last part of the tweet URL after \"status/\"\n",
    "- jpg_url: Image link or URL\n",
    "- img_num: Image number\n",
    "- p1: p1 is the algorithm's #1 prediction for the image in the tweet\n",
    "- p1_conf: p1_conf is how confident the algorithm is in its #1 prediction\n",
    "- p1_dog: p1_dog is whether or not the #1 prediction is a breed of dog\n",
    "- p2: is the algorithm's second most likely prediction\n",
    "- p2_conf: is how confident the algorithm is in its #2 prediction\n",
    "- p2_dog: is whether or not the #2 prediction is a breed of dog\n",
    "- p3: p3 is the algorithm's #3 prediction for the image in the tweet\n",
    "- p3_conf: p3_conf is how confident the algorithm is in its #3 prediction\n",
    "- p3_dog: p3_dog is whether or not the #3 prediction is a breed of dog"
   ]
  },
  {
   "cell_type": "code",
   "execution_count": 459,
   "metadata": {},
   "outputs": [
    {
     "name": "stdout",
     "output_type": "stream",
     "text": [
      "<class 'pandas.core.frame.DataFrame'>\n",
      "RangeIndex: 2075 entries, 0 to 2074\n",
      "Data columns (total 12 columns):\n",
      " #   Column    Non-Null Count  Dtype  \n",
      "---  ------    --------------  -----  \n",
      " 0   tweet_id  2075 non-null   int64  \n",
      " 1   jpg_url   2075 non-null   object \n",
      " 2   img_num   2075 non-null   int64  \n",
      " 3   p1        2075 non-null   object \n",
      " 4   p1_conf   2075 non-null   float64\n",
      " 5   p1_dog    2075 non-null   bool   \n",
      " 6   p2        2075 non-null   object \n",
      " 7   p2_conf   2075 non-null   float64\n",
      " 8   p2_dog    2075 non-null   bool   \n",
      " 9   p3        2075 non-null   object \n",
      " 10  p3_conf   2075 non-null   float64\n",
      " 11  p3_dog    2075 non-null   bool   \n",
      "dtypes: bool(3), float64(3), int64(2), object(4)\n",
      "memory usage: 152.1+ KB\n"
     ]
    }
   ],
   "source": [
    "df_predict.info()"
   ]
  },
  {
   "cell_type": "code",
   "execution_count": 460,
   "metadata": {},
   "outputs": [
    {
     "data": {
      "text/html": [
       "<div>\n",
       "<style scoped>\n",
       "    .dataframe tbody tr th:only-of-type {\n",
       "        vertical-align: middle;\n",
       "    }\n",
       "\n",
       "    .dataframe tbody tr th {\n",
       "        vertical-align: top;\n",
       "    }\n",
       "\n",
       "    .dataframe thead th {\n",
       "        text-align: right;\n",
       "    }\n",
       "</style>\n",
       "<table border=\"1\" class=\"dataframe\">\n",
       "  <thead>\n",
       "    <tr style=\"text-align: right;\">\n",
       "      <th></th>\n",
       "      <th>tweet_id</th>\n",
       "      <th>img_num</th>\n",
       "      <th>p1_conf</th>\n",
       "      <th>p2_conf</th>\n",
       "      <th>p3_conf</th>\n",
       "    </tr>\n",
       "  </thead>\n",
       "  <tbody>\n",
       "    <tr>\n",
       "      <th>count</th>\n",
       "      <td>2.075000e+03</td>\n",
       "      <td>2075.000000</td>\n",
       "      <td>2075.000000</td>\n",
       "      <td>2.075000e+03</td>\n",
       "      <td>2.075000e+03</td>\n",
       "    </tr>\n",
       "    <tr>\n",
       "      <th>mean</th>\n",
       "      <td>7.384514e+17</td>\n",
       "      <td>1.203855</td>\n",
       "      <td>0.594548</td>\n",
       "      <td>1.345886e-01</td>\n",
       "      <td>6.032417e-02</td>\n",
       "    </tr>\n",
       "    <tr>\n",
       "      <th>std</th>\n",
       "      <td>6.785203e+16</td>\n",
       "      <td>0.561875</td>\n",
       "      <td>0.271174</td>\n",
       "      <td>1.006657e-01</td>\n",
       "      <td>5.090593e-02</td>\n",
       "    </tr>\n",
       "    <tr>\n",
       "      <th>min</th>\n",
       "      <td>6.660209e+17</td>\n",
       "      <td>1.000000</td>\n",
       "      <td>0.044333</td>\n",
       "      <td>1.011300e-08</td>\n",
       "      <td>1.740170e-10</td>\n",
       "    </tr>\n",
       "    <tr>\n",
       "      <th>25%</th>\n",
       "      <td>6.764835e+17</td>\n",
       "      <td>1.000000</td>\n",
       "      <td>0.364412</td>\n",
       "      <td>5.388625e-02</td>\n",
       "      <td>1.622240e-02</td>\n",
       "    </tr>\n",
       "    <tr>\n",
       "      <th>50%</th>\n",
       "      <td>7.119988e+17</td>\n",
       "      <td>1.000000</td>\n",
       "      <td>0.588230</td>\n",
       "      <td>1.181810e-01</td>\n",
       "      <td>4.944380e-02</td>\n",
       "    </tr>\n",
       "    <tr>\n",
       "      <th>75%</th>\n",
       "      <td>7.932034e+17</td>\n",
       "      <td>1.000000</td>\n",
       "      <td>0.843855</td>\n",
       "      <td>1.955655e-01</td>\n",
       "      <td>9.180755e-02</td>\n",
       "    </tr>\n",
       "    <tr>\n",
       "      <th>max</th>\n",
       "      <td>8.924206e+17</td>\n",
       "      <td>4.000000</td>\n",
       "      <td>1.000000</td>\n",
       "      <td>4.880140e-01</td>\n",
       "      <td>2.734190e-01</td>\n",
       "    </tr>\n",
       "  </tbody>\n",
       "</table>\n",
       "</div>"
      ],
      "text/plain": [
       "           tweet_id      img_num      p1_conf       p2_conf       p3_conf\n",
       "count  2.075000e+03  2075.000000  2075.000000  2.075000e+03  2.075000e+03\n",
       "mean   7.384514e+17     1.203855     0.594548  1.345886e-01  6.032417e-02\n",
       "std    6.785203e+16     0.561875     0.271174  1.006657e-01  5.090593e-02\n",
       "min    6.660209e+17     1.000000     0.044333  1.011300e-08  1.740170e-10\n",
       "25%    6.764835e+17     1.000000     0.364412  5.388625e-02  1.622240e-02\n",
       "50%    7.119988e+17     1.000000     0.588230  1.181810e-01  4.944380e-02\n",
       "75%    7.932034e+17     1.000000     0.843855  1.955655e-01  9.180755e-02\n",
       "max    8.924206e+17     4.000000     1.000000  4.880140e-01  2.734190e-01"
      ]
     },
     "execution_count": 460,
     "metadata": {},
     "output_type": "execute_result"
    }
   ],
   "source": [
    "df_predict.describe()"
   ]
  },
  {
   "cell_type": "code",
   "execution_count": 461,
   "metadata": {},
   "outputs": [
    {
     "data": {
      "text/plain": [
       "0"
      ]
     },
     "execution_count": 461,
     "metadata": {},
     "output_type": "execute_result"
    }
   ],
   "source": [
    "sum(df_predict.duplicated())"
   ]
  },
  {
   "cell_type": "code",
   "execution_count": 462,
   "metadata": {},
   "outputs": [
    {
     "data": {
      "text/html": [
       "<div>\n",
       "<style scoped>\n",
       "    .dataframe tbody tr th:only-of-type {\n",
       "        vertical-align: middle;\n",
       "    }\n",
       "\n",
       "    .dataframe tbody tr th {\n",
       "        vertical-align: top;\n",
       "    }\n",
       "\n",
       "    .dataframe thead th {\n",
       "        text-align: right;\n",
       "    }\n",
       "</style>\n",
       "<table border=\"1\" class=\"dataframe\">\n",
       "  <thead>\n",
       "    <tr style=\"text-align: right;\">\n",
       "      <th></th>\n",
       "      <th>tweet_id</th>\n",
       "      <th>jpg_url</th>\n",
       "      <th>img_num</th>\n",
       "      <th>p1</th>\n",
       "      <th>p1_conf</th>\n",
       "      <th>p1_dog</th>\n",
       "      <th>p2</th>\n",
       "      <th>p2_conf</th>\n",
       "      <th>p2_dog</th>\n",
       "      <th>p3</th>\n",
       "      <th>p3_conf</th>\n",
       "      <th>p3_dog</th>\n",
       "    </tr>\n",
       "  </thead>\n",
       "  <tbody>\n",
       "    <tr>\n",
       "      <th>1030</th>\n",
       "      <td>711306686208872448</td>\n",
       "      <td>https://pbs.twimg.com/media/Cd8Rpl0W0AAN1kU.jpg</td>\n",
       "      <td>1</td>\n",
       "      <td>leatherback_turtle</td>\n",
       "      <td>0.280835</td>\n",
       "      <td>False</td>\n",
       "      <td>loggerhead</td>\n",
       "      <td>0.123290</td>\n",
       "      <td>False</td>\n",
       "      <td>Dandie_Dinmont</td>\n",
       "      <td>0.086792</td>\n",
       "      <td>True</td>\n",
       "    </tr>\n",
       "    <tr>\n",
       "      <th>1963</th>\n",
       "      <td>867051520902168576</td>\n",
       "      <td>https://pbs.twimg.com/media/DAhiwb0XcAA8x5Q.jpg</td>\n",
       "      <td>1</td>\n",
       "      <td>Samoyed</td>\n",
       "      <td>0.471403</td>\n",
       "      <td>True</td>\n",
       "      <td>Pekinese</td>\n",
       "      <td>0.302219</td>\n",
       "      <td>True</td>\n",
       "      <td>Pomeranian</td>\n",
       "      <td>0.156606</td>\n",
       "      <td>True</td>\n",
       "    </tr>\n",
       "    <tr>\n",
       "      <th>1262</th>\n",
       "      <td>748977405889503236</td>\n",
       "      <td>https://pbs.twimg.com/media/CmTm-XQXEAAEyN6.jpg</td>\n",
       "      <td>1</td>\n",
       "      <td>German_short-haired_pointer</td>\n",
       "      <td>0.742216</td>\n",
       "      <td>True</td>\n",
       "      <td>bluetick</td>\n",
       "      <td>0.152810</td>\n",
       "      <td>True</td>\n",
       "      <td>English_setter</td>\n",
       "      <td>0.051835</td>\n",
       "      <td>True</td>\n",
       "    </tr>\n",
       "    <tr>\n",
       "      <th>521</th>\n",
       "      <td>676575501977128964</td>\n",
       "      <td>https://pbs.twimg.com/media/CWOt07EUsAAnOYW.jpg</td>\n",
       "      <td>1</td>\n",
       "      <td>feather_boa</td>\n",
       "      <td>0.424106</td>\n",
       "      <td>False</td>\n",
       "      <td>Yorkshire_terrier</td>\n",
       "      <td>0.073144</td>\n",
       "      <td>True</td>\n",
       "      <td>Shetland_sheepdog</td>\n",
       "      <td>0.057598</td>\n",
       "      <td>True</td>\n",
       "    </tr>\n",
       "    <tr>\n",
       "      <th>993</th>\n",
       "      <td>708119489313951744</td>\n",
       "      <td>https://pbs.twimg.com/media/CdO-6x5W8AENSBJ.jpg</td>\n",
       "      <td>1</td>\n",
       "      <td>Norwich_terrier</td>\n",
       "      <td>0.264483</td>\n",
       "      <td>True</td>\n",
       "      <td>Norfolk_terrier</td>\n",
       "      <td>0.258786</td>\n",
       "      <td>True</td>\n",
       "      <td>chow</td>\n",
       "      <td>0.096899</td>\n",
       "      <td>True</td>\n",
       "    </tr>\n",
       "  </tbody>\n",
       "</table>\n",
       "</div>"
      ],
      "text/plain": [
       "                tweet_id                                          jpg_url  \\\n",
       "1030  711306686208872448  https://pbs.twimg.com/media/Cd8Rpl0W0AAN1kU.jpg   \n",
       "1963  867051520902168576  https://pbs.twimg.com/media/DAhiwb0XcAA8x5Q.jpg   \n",
       "1262  748977405889503236  https://pbs.twimg.com/media/CmTm-XQXEAAEyN6.jpg   \n",
       "521   676575501977128964  https://pbs.twimg.com/media/CWOt07EUsAAnOYW.jpg   \n",
       "993   708119489313951744  https://pbs.twimg.com/media/CdO-6x5W8AENSBJ.jpg   \n",
       "\n",
       "      img_num                           p1   p1_conf  p1_dog  \\\n",
       "1030        1           leatherback_turtle  0.280835   False   \n",
       "1963        1                      Samoyed  0.471403    True   \n",
       "1262        1  German_short-haired_pointer  0.742216    True   \n",
       "521         1                  feather_boa  0.424106   False   \n",
       "993         1              Norwich_terrier  0.264483    True   \n",
       "\n",
       "                     p2   p2_conf  p2_dog                 p3   p3_conf  p3_dog  \n",
       "1030         loggerhead  0.123290   False     Dandie_Dinmont  0.086792    True  \n",
       "1963           Pekinese  0.302219    True         Pomeranian  0.156606    True  \n",
       "1262           bluetick  0.152810    True     English_setter  0.051835    True  \n",
       "521   Yorkshire_terrier  0.073144    True  Shetland_sheepdog  0.057598    True  \n",
       "993     Norfolk_terrier  0.258786    True               chow  0.096899    True  "
      ]
     },
     "execution_count": 462,
     "metadata": {},
     "output_type": "execute_result"
    }
   ],
   "source": [
    "df_predict.sample(5)"
   ]
  },
  {
   "cell_type": "markdown",
   "metadata": {},
   "source": [
    "#### 2. df_twitter columns:\n",
    "Total of 2356 rows and 17 columns, with some infomation lost \n",
    "\n",
    "- tweet_id: the unique identifier for each tweet\n",
    "- in_reply_to_status_id: the status id for the reply given to the tweet id\n",
    "- in_reply_to_user_id: the status id for the reply given to the user id \n",
    "- timestamp: Date and time the tweet was created, in Excel-friendly format.\n",
    "- source: the web link as source\n",
    "- text: the corresponding tweets text\n",
    "- retweeted_status_id: the status id for the reply given to the tweet id \n",
    "- retweeted_status_user_id: the status id for the tweeted given to the user id \n",
    "- retweeted_status_timestamp: Date and time the retweet was created\n",
    "- expanded_urls: Expanded version of ur1\n",
    "- rating_numerator: the rating given by the user\n",
    "- rating_denominator: The reference rating given by the user\n",
    "- name: the breed or dog's name \n",
    "- doggo, floofer, pupper, puppo: the stage of the dog"
   ]
  },
  {
   "cell_type": "code",
   "execution_count": 463,
   "metadata": {},
   "outputs": [
    {
     "name": "stdout",
     "output_type": "stream",
     "text": [
      "<class 'pandas.core.frame.DataFrame'>\n",
      "RangeIndex: 2356 entries, 0 to 2355\n",
      "Data columns (total 17 columns):\n",
      " #   Column                      Non-Null Count  Dtype  \n",
      "---  ------                      --------------  -----  \n",
      " 0   tweet_id                    2356 non-null   int64  \n",
      " 1   in_reply_to_status_id       78 non-null     float64\n",
      " 2   in_reply_to_user_id         78 non-null     float64\n",
      " 3   timestamp                   2356 non-null   object \n",
      " 4   source                      2356 non-null   object \n",
      " 5   text                        2356 non-null   object \n",
      " 6   retweeted_status_id         181 non-null    float64\n",
      " 7   retweeted_status_user_id    181 non-null    float64\n",
      " 8   retweeted_status_timestamp  181 non-null    object \n",
      " 9   expanded_urls               2297 non-null   object \n",
      " 10  rating_numerator            2356 non-null   int64  \n",
      " 11  rating_denominator          2356 non-null   int64  \n",
      " 12  name                        2356 non-null   object \n",
      " 13  doggo                       2356 non-null   object \n",
      " 14  floofer                     2356 non-null   object \n",
      " 15  pupper                      2356 non-null   object \n",
      " 16  puppo                       2356 non-null   object \n",
      "dtypes: float64(4), int64(3), object(10)\n",
      "memory usage: 313.0+ KB\n"
     ]
    }
   ],
   "source": [
    "df_twitter.info()"
   ]
  },
  {
   "cell_type": "code",
   "execution_count": 464,
   "metadata": {},
   "outputs": [
    {
     "data": {
      "text/plain": [
       "0"
      ]
     },
     "execution_count": 464,
     "metadata": {},
     "output_type": "execute_result"
    }
   ],
   "source": [
    "sum(df_twitter.duplicated())"
   ]
  },
  {
   "cell_type": "code",
   "execution_count": 465,
   "metadata": {},
   "outputs": [
    {
     "data": {
      "text/html": [
       "<div>\n",
       "<style scoped>\n",
       "    .dataframe tbody tr th:only-of-type {\n",
       "        vertical-align: middle;\n",
       "    }\n",
       "\n",
       "    .dataframe tbody tr th {\n",
       "        vertical-align: top;\n",
       "    }\n",
       "\n",
       "    .dataframe thead th {\n",
       "        text-align: right;\n",
       "    }\n",
       "</style>\n",
       "<table border=\"1\" class=\"dataframe\">\n",
       "  <thead>\n",
       "    <tr style=\"text-align: right;\">\n",
       "      <th></th>\n",
       "      <th>tweet_id</th>\n",
       "      <th>in_reply_to_status_id</th>\n",
       "      <th>in_reply_to_user_id</th>\n",
       "      <th>timestamp</th>\n",
       "      <th>source</th>\n",
       "      <th>text</th>\n",
       "      <th>retweeted_status_id</th>\n",
       "      <th>retweeted_status_user_id</th>\n",
       "      <th>retweeted_status_timestamp</th>\n",
       "      <th>expanded_urls</th>\n",
       "      <th>rating_numerator</th>\n",
       "      <th>rating_denominator</th>\n",
       "      <th>name</th>\n",
       "      <th>doggo</th>\n",
       "      <th>floofer</th>\n",
       "      <th>pupper</th>\n",
       "      <th>puppo</th>\n",
       "    </tr>\n",
       "  </thead>\n",
       "  <tbody>\n",
       "    <tr>\n",
       "      <th>0</th>\n",
       "      <td>892420643555336193</td>\n",
       "      <td>NaN</td>\n",
       "      <td>NaN</td>\n",
       "      <td>2017-08-01 16:23:56 +0000</td>\n",
       "      <td>&lt;a href=\"http://twitter.com/download/iphone\" r...</td>\n",
       "      <td>This is Phineas. He's a mystical boy. Only eve...</td>\n",
       "      <td>NaN</td>\n",
       "      <td>NaN</td>\n",
       "      <td>NaN</td>\n",
       "      <td>https://twitter.com/dog_rates/status/892420643...</td>\n",
       "      <td>13</td>\n",
       "      <td>10</td>\n",
       "      <td>Phineas</td>\n",
       "      <td>None</td>\n",
       "      <td>None</td>\n",
       "      <td>None</td>\n",
       "      <td>None</td>\n",
       "    </tr>\n",
       "    <tr>\n",
       "      <th>1</th>\n",
       "      <td>892177421306343426</td>\n",
       "      <td>NaN</td>\n",
       "      <td>NaN</td>\n",
       "      <td>2017-08-01 00:17:27 +0000</td>\n",
       "      <td>&lt;a href=\"http://twitter.com/download/iphone\" r...</td>\n",
       "      <td>This is Tilly. She's just checking pup on you....</td>\n",
       "      <td>NaN</td>\n",
       "      <td>NaN</td>\n",
       "      <td>NaN</td>\n",
       "      <td>https://twitter.com/dog_rates/status/892177421...</td>\n",
       "      <td>13</td>\n",
       "      <td>10</td>\n",
       "      <td>Tilly</td>\n",
       "      <td>None</td>\n",
       "      <td>None</td>\n",
       "      <td>None</td>\n",
       "      <td>None</td>\n",
       "    </tr>\n",
       "    <tr>\n",
       "      <th>2</th>\n",
       "      <td>891815181378084864</td>\n",
       "      <td>NaN</td>\n",
       "      <td>NaN</td>\n",
       "      <td>2017-07-31 00:18:03 +0000</td>\n",
       "      <td>&lt;a href=\"http://twitter.com/download/iphone\" r...</td>\n",
       "      <td>This is Archie. He is a rare Norwegian Pouncin...</td>\n",
       "      <td>NaN</td>\n",
       "      <td>NaN</td>\n",
       "      <td>NaN</td>\n",
       "      <td>https://twitter.com/dog_rates/status/891815181...</td>\n",
       "      <td>12</td>\n",
       "      <td>10</td>\n",
       "      <td>Archie</td>\n",
       "      <td>None</td>\n",
       "      <td>None</td>\n",
       "      <td>None</td>\n",
       "      <td>None</td>\n",
       "    </tr>\n",
       "    <tr>\n",
       "      <th>3</th>\n",
       "      <td>891689557279858688</td>\n",
       "      <td>NaN</td>\n",
       "      <td>NaN</td>\n",
       "      <td>2017-07-30 15:58:51 +0000</td>\n",
       "      <td>&lt;a href=\"http://twitter.com/download/iphone\" r...</td>\n",
       "      <td>This is Darla. She commenced a snooze mid meal...</td>\n",
       "      <td>NaN</td>\n",
       "      <td>NaN</td>\n",
       "      <td>NaN</td>\n",
       "      <td>https://twitter.com/dog_rates/status/891689557...</td>\n",
       "      <td>13</td>\n",
       "      <td>10</td>\n",
       "      <td>Darla</td>\n",
       "      <td>None</td>\n",
       "      <td>None</td>\n",
       "      <td>None</td>\n",
       "      <td>None</td>\n",
       "    </tr>\n",
       "    <tr>\n",
       "      <th>4</th>\n",
       "      <td>891327558926688256</td>\n",
       "      <td>NaN</td>\n",
       "      <td>NaN</td>\n",
       "      <td>2017-07-29 16:00:24 +0000</td>\n",
       "      <td>&lt;a href=\"http://twitter.com/download/iphone\" r...</td>\n",
       "      <td>This is Franklin. He would like you to stop ca...</td>\n",
       "      <td>NaN</td>\n",
       "      <td>NaN</td>\n",
       "      <td>NaN</td>\n",
       "      <td>https://twitter.com/dog_rates/status/891327558...</td>\n",
       "      <td>12</td>\n",
       "      <td>10</td>\n",
       "      <td>Franklin</td>\n",
       "      <td>None</td>\n",
       "      <td>None</td>\n",
       "      <td>None</td>\n",
       "      <td>None</td>\n",
       "    </tr>\n",
       "  </tbody>\n",
       "</table>\n",
       "</div>"
      ],
      "text/plain": [
       "             tweet_id  in_reply_to_status_id  in_reply_to_user_id  \\\n",
       "0  892420643555336193                    NaN                  NaN   \n",
       "1  892177421306343426                    NaN                  NaN   \n",
       "2  891815181378084864                    NaN                  NaN   \n",
       "3  891689557279858688                    NaN                  NaN   \n",
       "4  891327558926688256                    NaN                  NaN   \n",
       "\n",
       "                   timestamp  \\\n",
       "0  2017-08-01 16:23:56 +0000   \n",
       "1  2017-08-01 00:17:27 +0000   \n",
       "2  2017-07-31 00:18:03 +0000   \n",
       "3  2017-07-30 15:58:51 +0000   \n",
       "4  2017-07-29 16:00:24 +0000   \n",
       "\n",
       "                                              source  \\\n",
       "0  <a href=\"http://twitter.com/download/iphone\" r...   \n",
       "1  <a href=\"http://twitter.com/download/iphone\" r...   \n",
       "2  <a href=\"http://twitter.com/download/iphone\" r...   \n",
       "3  <a href=\"http://twitter.com/download/iphone\" r...   \n",
       "4  <a href=\"http://twitter.com/download/iphone\" r...   \n",
       "\n",
       "                                                text  retweeted_status_id  \\\n",
       "0  This is Phineas. He's a mystical boy. Only eve...                  NaN   \n",
       "1  This is Tilly. She's just checking pup on you....                  NaN   \n",
       "2  This is Archie. He is a rare Norwegian Pouncin...                  NaN   \n",
       "3  This is Darla. She commenced a snooze mid meal...                  NaN   \n",
       "4  This is Franklin. He would like you to stop ca...                  NaN   \n",
       "\n",
       "   retweeted_status_user_id retweeted_status_timestamp  \\\n",
       "0                       NaN                        NaN   \n",
       "1                       NaN                        NaN   \n",
       "2                       NaN                        NaN   \n",
       "3                       NaN                        NaN   \n",
       "4                       NaN                        NaN   \n",
       "\n",
       "                                       expanded_urls  rating_numerator  \\\n",
       "0  https://twitter.com/dog_rates/status/892420643...                13   \n",
       "1  https://twitter.com/dog_rates/status/892177421...                13   \n",
       "2  https://twitter.com/dog_rates/status/891815181...                12   \n",
       "3  https://twitter.com/dog_rates/status/891689557...                13   \n",
       "4  https://twitter.com/dog_rates/status/891327558...                12   \n",
       "\n",
       "   rating_denominator      name doggo floofer pupper puppo  \n",
       "0                  10   Phineas  None    None   None  None  \n",
       "1                  10     Tilly  None    None   None  None  \n",
       "2                  10    Archie  None    None   None  None  \n",
       "3                  10     Darla  None    None   None  None  \n",
       "4                  10  Franklin  None    None   None  None  "
      ]
     },
     "execution_count": 465,
     "metadata": {},
     "output_type": "execute_result"
    }
   ],
   "source": [
    "df_twitter.head()"
   ]
  },
  {
   "cell_type": "markdown",
   "metadata": {},
   "source": [
    "#### 3. df_tweets_info columns:\n",
    "Total of 2354 rows and 4 columns, with no infomation lost \n",
    "\n",
    "- tweet_id: tweet_id is the the unique identifier for each tweet\n",
    "- retweet_count: the number of retweet for the posting\n",
    "- favorite_count: the number of clicking favourite for the posting\n",
    "- follower_count: the number of followers for the user who posting"
   ]
  },
  {
   "cell_type": "code",
   "execution_count": 466,
   "metadata": {},
   "outputs": [
    {
     "name": "stdout",
     "output_type": "stream",
     "text": [
      "<class 'pandas.core.frame.DataFrame'>\n",
      "RangeIndex: 2354 entries, 0 to 2353\n",
      "Data columns (total 4 columns):\n",
      " #   Column          Non-Null Count  Dtype \n",
      "---  ------          --------------  ----- \n",
      " 0   tweet_id        2354 non-null   object\n",
      " 1   retweet_count   2354 non-null   int64 \n",
      " 2   favorite_count  2354 non-null   int64 \n",
      " 3   follower_count  2354 non-null   int64 \n",
      "dtypes: int64(3), object(1)\n",
      "memory usage: 73.7+ KB\n"
     ]
    }
   ],
   "source": [
    "df_tweets_info.info()"
   ]
  },
  {
   "cell_type": "code",
   "execution_count": 467,
   "metadata": {},
   "outputs": [
    {
     "data": {
      "text/plain": [
       "0"
      ]
     },
     "execution_count": 467,
     "metadata": {},
     "output_type": "execute_result"
    }
   ],
   "source": [
    "sum(df_tweets_info.duplicated())"
   ]
  },
  {
   "cell_type": "code",
   "execution_count": 468,
   "metadata": {},
   "outputs": [
    {
     "data": {
      "text/html": [
       "<div>\n",
       "<style scoped>\n",
       "    .dataframe tbody tr th:only-of-type {\n",
       "        vertical-align: middle;\n",
       "    }\n",
       "\n",
       "    .dataframe tbody tr th {\n",
       "        vertical-align: top;\n",
       "    }\n",
       "\n",
       "    .dataframe thead th {\n",
       "        text-align: right;\n",
       "    }\n",
       "</style>\n",
       "<table border=\"1\" class=\"dataframe\">\n",
       "  <thead>\n",
       "    <tr style=\"text-align: right;\">\n",
       "      <th></th>\n",
       "      <th>retweet_count</th>\n",
       "      <th>favorite_count</th>\n",
       "      <th>follower_count</th>\n",
       "    </tr>\n",
       "  </thead>\n",
       "  <tbody>\n",
       "    <tr>\n",
       "      <th>count</th>\n",
       "      <td>2354.000000</td>\n",
       "      <td>2354.000000</td>\n",
       "      <td>2.354000e+03</td>\n",
       "    </tr>\n",
       "    <tr>\n",
       "      <th>mean</th>\n",
       "      <td>3164.797366</td>\n",
       "      <td>8080.968564</td>\n",
       "      <td>3.200942e+06</td>\n",
       "    </tr>\n",
       "    <tr>\n",
       "      <th>std</th>\n",
       "      <td>5284.770364</td>\n",
       "      <td>11814.771334</td>\n",
       "      <td>4.457302e+01</td>\n",
       "    </tr>\n",
       "    <tr>\n",
       "      <th>min</th>\n",
       "      <td>0.000000</td>\n",
       "      <td>0.000000</td>\n",
       "      <td>3.200799e+06</td>\n",
       "    </tr>\n",
       "    <tr>\n",
       "      <th>25%</th>\n",
       "      <td>624.500000</td>\n",
       "      <td>1415.000000</td>\n",
       "      <td>3.200898e+06</td>\n",
       "    </tr>\n",
       "    <tr>\n",
       "      <th>50%</th>\n",
       "      <td>1473.500000</td>\n",
       "      <td>3603.500000</td>\n",
       "      <td>3.200945e+06</td>\n",
       "    </tr>\n",
       "    <tr>\n",
       "      <th>75%</th>\n",
       "      <td>3652.000000</td>\n",
       "      <td>10122.250000</td>\n",
       "      <td>3.200953e+06</td>\n",
       "    </tr>\n",
       "    <tr>\n",
       "      <th>max</th>\n",
       "      <td>79515.000000</td>\n",
       "      <td>132810.000000</td>\n",
       "      <td>3.201018e+06</td>\n",
       "    </tr>\n",
       "  </tbody>\n",
       "</table>\n",
       "</div>"
      ],
      "text/plain": [
       "       retweet_count  favorite_count  follower_count\n",
       "count    2354.000000     2354.000000    2.354000e+03\n",
       "mean     3164.797366     8080.968564    3.200942e+06\n",
       "std      5284.770364    11814.771334    4.457302e+01\n",
       "min         0.000000        0.000000    3.200799e+06\n",
       "25%       624.500000     1415.000000    3.200898e+06\n",
       "50%      1473.500000     3603.500000    3.200945e+06\n",
       "75%      3652.000000    10122.250000    3.200953e+06\n",
       "max     79515.000000   132810.000000    3.201018e+06"
      ]
     },
     "execution_count": 468,
     "metadata": {},
     "output_type": "execute_result"
    }
   ],
   "source": [
    "df_tweets_info.describe()"
   ]
  },
  {
   "cell_type": "code",
   "execution_count": 469,
   "metadata": {},
   "outputs": [
    {
     "data": {
      "text/html": [
       "<div>\n",
       "<style scoped>\n",
       "    .dataframe tbody tr th:only-of-type {\n",
       "        vertical-align: middle;\n",
       "    }\n",
       "\n",
       "    .dataframe tbody tr th {\n",
       "        vertical-align: top;\n",
       "    }\n",
       "\n",
       "    .dataframe thead th {\n",
       "        text-align: right;\n",
       "    }\n",
       "</style>\n",
       "<table border=\"1\" class=\"dataframe\">\n",
       "  <thead>\n",
       "    <tr style=\"text-align: right;\">\n",
       "      <th></th>\n",
       "      <th>tweet_id</th>\n",
       "      <th>retweet_count</th>\n",
       "      <th>favorite_count</th>\n",
       "      <th>follower_count</th>\n",
       "    </tr>\n",
       "  </thead>\n",
       "  <tbody>\n",
       "    <tr>\n",
       "      <th>0</th>\n",
       "      <td>892420643555336193</td>\n",
       "      <td>8853</td>\n",
       "      <td>39467</td>\n",
       "      <td>3200889</td>\n",
       "    </tr>\n",
       "    <tr>\n",
       "      <th>1</th>\n",
       "      <td>892177421306343426</td>\n",
       "      <td>6514</td>\n",
       "      <td>33819</td>\n",
       "      <td>3200889</td>\n",
       "    </tr>\n",
       "    <tr>\n",
       "      <th>2</th>\n",
       "      <td>891815181378084864</td>\n",
       "      <td>4328</td>\n",
       "      <td>25461</td>\n",
       "      <td>3200889</td>\n",
       "    </tr>\n",
       "    <tr>\n",
       "      <th>3</th>\n",
       "      <td>891689557279858688</td>\n",
       "      <td>8964</td>\n",
       "      <td>42908</td>\n",
       "      <td>3200889</td>\n",
       "    </tr>\n",
       "    <tr>\n",
       "      <th>4</th>\n",
       "      <td>891327558926688256</td>\n",
       "      <td>9774</td>\n",
       "      <td>41048</td>\n",
       "      <td>3200889</td>\n",
       "    </tr>\n",
       "    <tr>\n",
       "      <th>...</th>\n",
       "      <td>...</td>\n",
       "      <td>...</td>\n",
       "      <td>...</td>\n",
       "      <td>...</td>\n",
       "    </tr>\n",
       "    <tr>\n",
       "      <th>2349</th>\n",
       "      <td>666049248165822465</td>\n",
       "      <td>41</td>\n",
       "      <td>111</td>\n",
       "      <td>3201018</td>\n",
       "    </tr>\n",
       "    <tr>\n",
       "      <th>2350</th>\n",
       "      <td>666044226329800704</td>\n",
       "      <td>147</td>\n",
       "      <td>311</td>\n",
       "      <td>3201018</td>\n",
       "    </tr>\n",
       "    <tr>\n",
       "      <th>2351</th>\n",
       "      <td>666033412701032449</td>\n",
       "      <td>47</td>\n",
       "      <td>128</td>\n",
       "      <td>3201018</td>\n",
       "    </tr>\n",
       "    <tr>\n",
       "      <th>2352</th>\n",
       "      <td>666029285002620928</td>\n",
       "      <td>48</td>\n",
       "      <td>132</td>\n",
       "      <td>3201018</td>\n",
       "    </tr>\n",
       "    <tr>\n",
       "      <th>2353</th>\n",
       "      <td>666020888022790149</td>\n",
       "      <td>532</td>\n",
       "      <td>2535</td>\n",
       "      <td>3201018</td>\n",
       "    </tr>\n",
       "  </tbody>\n",
       "</table>\n",
       "<p>2354 rows × 4 columns</p>\n",
       "</div>"
      ],
      "text/plain": [
       "                tweet_id  retweet_count  favorite_count  follower_count\n",
       "0     892420643555336193           8853           39467         3200889\n",
       "1     892177421306343426           6514           33819         3200889\n",
       "2     891815181378084864           4328           25461         3200889\n",
       "3     891689557279858688           8964           42908         3200889\n",
       "4     891327558926688256           9774           41048         3200889\n",
       "...                  ...            ...             ...             ...\n",
       "2349  666049248165822465             41             111         3201018\n",
       "2350  666044226329800704            147             311         3201018\n",
       "2351  666033412701032449             47             128         3201018\n",
       "2352  666029285002620928             48             132         3201018\n",
       "2353  666020888022790149            532            2535         3201018\n",
       "\n",
       "[2354 rows x 4 columns]"
      ]
     },
     "execution_count": 469,
     "metadata": {},
     "output_type": "execute_result"
    }
   ],
   "source": [
    "df_tweets_info"
   ]
  },
  {
   "cell_type": "markdown",
   "metadata": {},
   "source": [
    "#### Quality \n",
    "`df_tweets_info` table\n",
    "- slightly some infomation missing compared to df_twitter\n",
    "\n",
    "`df_predict` table\n",
    "- datatype of `tweet_id` need to be string\n",
    "- `p1,p2,p3` columns contain upper and lower class\n",
    "- smaller data sets compared to others \n",
    "\n",
    "`df_twitter` table\n",
    "- datatype of `tweet_id`, `in_reply_to_status_id`, `in_reply_to_user_id`, `retweeted_status_id`, `retweeted_status_user_id` need to be string\n",
    "- `timestamp`, `retweeted_status_timestamp` need to be date\n",
    "- `None`, `NaN`, `nan` appears, which is unconsistency\n",
    "- `name` is 'a', which is typo\n",
    "- do not need retweet info\n",
    "- `source` column contain html code (didn't do this one)"
   ]
  },
  {
   "cell_type": "markdown",
   "metadata": {},
   "source": [
    "#### Tidiness \n",
    "- `doggo`, `floofe`, `pupper`, `puppo` can be transformed into one column in `df_twitter` table\n",
    "- All three tables can be merged into one with primary key `tweet_id`"
   ]
  },
  {
   "cell_type": "markdown",
   "metadata": {},
   "source": [
    "<a id='Cleaning'></a>\n",
    "#### Part IV - Cleaning\n"
   ]
  },
  {
   "cell_type": "code",
   "execution_count": 1133,
   "metadata": {},
   "outputs": [],
   "source": [
    "df_tweets_info_clean = df_tweets_info.copy()\n",
    "df_twitter_clean = df_twitter.copy()\n",
    "df_predict_clean = df_predict.copy()"
   ]
  },
  {
   "cell_type": "markdown",
   "metadata": {},
   "source": [
    "#### p1, p2, p3 columns of `df_predict` contain lower and upper class\n",
    "#### Define\n",
    "`df_predict` table\n",
    "- change all the letters in p1,p2,p3 columns to lowerclass\n",
    "\n"
   ]
  },
  {
   "cell_type": "markdown",
   "metadata": {},
   "source": [
    "#### Code\n"
   ]
  },
  {
   "cell_type": "code",
   "execution_count": 1134,
   "metadata": {},
   "outputs": [],
   "source": [
    "df_predict_clean['p1'] = df_predict_clean['p1'].str.lower()\n"
   ]
  },
  {
   "cell_type": "code",
   "execution_count": 1135,
   "metadata": {},
   "outputs": [],
   "source": [
    "df_predict_clean['p2'] = df_predict_clean['p2'].str.lower()\n",
    "df_predict_clean['p3'] = df_predict_clean['p3'].str.lower()\n"
   ]
  },
  {
   "cell_type": "markdown",
   "metadata": {},
   "source": [
    "#### Test\n"
   ]
  },
  {
   "cell_type": "code",
   "execution_count": 1020,
   "metadata": {},
   "outputs": [
    {
     "data": {
      "text/html": [
       "<div>\n",
       "<style scoped>\n",
       "    .dataframe tbody tr th:only-of-type {\n",
       "        vertical-align: middle;\n",
       "    }\n",
       "\n",
       "    .dataframe tbody tr th {\n",
       "        vertical-align: top;\n",
       "    }\n",
       "\n",
       "    .dataframe thead th {\n",
       "        text-align: right;\n",
       "    }\n",
       "</style>\n",
       "<table border=\"1\" class=\"dataframe\">\n",
       "  <thead>\n",
       "    <tr style=\"text-align: right;\">\n",
       "      <th></th>\n",
       "      <th>tweet_id</th>\n",
       "      <th>jpg_url</th>\n",
       "      <th>img_num</th>\n",
       "      <th>p1</th>\n",
       "      <th>p1_conf</th>\n",
       "      <th>p1_dog</th>\n",
       "      <th>p2</th>\n",
       "      <th>p2_conf</th>\n",
       "      <th>p2_dog</th>\n",
       "      <th>p3</th>\n",
       "      <th>p3_conf</th>\n",
       "      <th>p3_dog</th>\n",
       "    </tr>\n",
       "  </thead>\n",
       "  <tbody>\n",
       "    <tr>\n",
       "      <th>0</th>\n",
       "      <td>666020888022790149</td>\n",
       "      <td>https://pbs.twimg.com/media/CT4udn0WwAA0aMy.jpg</td>\n",
       "      <td>1</td>\n",
       "      <td>welsh_springer_spaniel</td>\n",
       "      <td>0.465074</td>\n",
       "      <td>True</td>\n",
       "      <td>collie</td>\n",
       "      <td>0.156665</td>\n",
       "      <td>True</td>\n",
       "      <td>shetland_sheepdog</td>\n",
       "      <td>0.061428</td>\n",
       "      <td>True</td>\n",
       "    </tr>\n",
       "    <tr>\n",
       "      <th>1</th>\n",
       "      <td>666029285002620928</td>\n",
       "      <td>https://pbs.twimg.com/media/CT42GRgUYAA5iDo.jpg</td>\n",
       "      <td>1</td>\n",
       "      <td>redbone</td>\n",
       "      <td>0.506826</td>\n",
       "      <td>True</td>\n",
       "      <td>miniature_pinscher</td>\n",
       "      <td>0.074192</td>\n",
       "      <td>True</td>\n",
       "      <td>rhodesian_ridgeback</td>\n",
       "      <td>0.072010</td>\n",
       "      <td>True</td>\n",
       "    </tr>\n",
       "    <tr>\n",
       "      <th>2</th>\n",
       "      <td>666033412701032449</td>\n",
       "      <td>https://pbs.twimg.com/media/CT4521TWwAEvMyu.jpg</td>\n",
       "      <td>1</td>\n",
       "      <td>german_shepherd</td>\n",
       "      <td>0.596461</td>\n",
       "      <td>True</td>\n",
       "      <td>malinois</td>\n",
       "      <td>0.138584</td>\n",
       "      <td>True</td>\n",
       "      <td>bloodhound</td>\n",
       "      <td>0.116197</td>\n",
       "      <td>True</td>\n",
       "    </tr>\n",
       "    <tr>\n",
       "      <th>3</th>\n",
       "      <td>666044226329800704</td>\n",
       "      <td>https://pbs.twimg.com/media/CT5Dr8HUEAA-lEu.jpg</td>\n",
       "      <td>1</td>\n",
       "      <td>rhodesian_ridgeback</td>\n",
       "      <td>0.408143</td>\n",
       "      <td>True</td>\n",
       "      <td>redbone</td>\n",
       "      <td>0.360687</td>\n",
       "      <td>True</td>\n",
       "      <td>miniature_pinscher</td>\n",
       "      <td>0.222752</td>\n",
       "      <td>True</td>\n",
       "    </tr>\n",
       "    <tr>\n",
       "      <th>4</th>\n",
       "      <td>666049248165822465</td>\n",
       "      <td>https://pbs.twimg.com/media/CT5IQmsXIAAKY4A.jpg</td>\n",
       "      <td>1</td>\n",
       "      <td>miniature_pinscher</td>\n",
       "      <td>0.560311</td>\n",
       "      <td>True</td>\n",
       "      <td>rottweiler</td>\n",
       "      <td>0.243682</td>\n",
       "      <td>True</td>\n",
       "      <td>doberman</td>\n",
       "      <td>0.154629</td>\n",
       "      <td>True</td>\n",
       "    </tr>\n",
       "    <tr>\n",
       "      <th>...</th>\n",
       "      <td>...</td>\n",
       "      <td>...</td>\n",
       "      <td>...</td>\n",
       "      <td>...</td>\n",
       "      <td>...</td>\n",
       "      <td>...</td>\n",
       "      <td>...</td>\n",
       "      <td>...</td>\n",
       "      <td>...</td>\n",
       "      <td>...</td>\n",
       "      <td>...</td>\n",
       "      <td>...</td>\n",
       "    </tr>\n",
       "    <tr>\n",
       "      <th>2070</th>\n",
       "      <td>891327558926688256</td>\n",
       "      <td>https://pbs.twimg.com/media/DF6hr6BUMAAzZgT.jpg</td>\n",
       "      <td>2</td>\n",
       "      <td>basset</td>\n",
       "      <td>0.555712</td>\n",
       "      <td>True</td>\n",
       "      <td>english_springer</td>\n",
       "      <td>0.225770</td>\n",
       "      <td>True</td>\n",
       "      <td>german_short-haired_pointer</td>\n",
       "      <td>0.175219</td>\n",
       "      <td>True</td>\n",
       "    </tr>\n",
       "    <tr>\n",
       "      <th>2071</th>\n",
       "      <td>891689557279858688</td>\n",
       "      <td>https://pbs.twimg.com/media/DF_q7IAWsAEuuN8.jpg</td>\n",
       "      <td>1</td>\n",
       "      <td>paper_towel</td>\n",
       "      <td>0.170278</td>\n",
       "      <td>False</td>\n",
       "      <td>labrador_retriever</td>\n",
       "      <td>0.168086</td>\n",
       "      <td>True</td>\n",
       "      <td>spatula</td>\n",
       "      <td>0.040836</td>\n",
       "      <td>False</td>\n",
       "    </tr>\n",
       "    <tr>\n",
       "      <th>2072</th>\n",
       "      <td>891815181378084864</td>\n",
       "      <td>https://pbs.twimg.com/media/DGBdLU1WsAANxJ9.jpg</td>\n",
       "      <td>1</td>\n",
       "      <td>chihuahua</td>\n",
       "      <td>0.716012</td>\n",
       "      <td>True</td>\n",
       "      <td>malamute</td>\n",
       "      <td>0.078253</td>\n",
       "      <td>True</td>\n",
       "      <td>kelpie</td>\n",
       "      <td>0.031379</td>\n",
       "      <td>True</td>\n",
       "    </tr>\n",
       "    <tr>\n",
       "      <th>2073</th>\n",
       "      <td>892177421306343426</td>\n",
       "      <td>https://pbs.twimg.com/media/DGGmoV4XsAAUL6n.jpg</td>\n",
       "      <td>1</td>\n",
       "      <td>chihuahua</td>\n",
       "      <td>0.323581</td>\n",
       "      <td>True</td>\n",
       "      <td>pekinese</td>\n",
       "      <td>0.090647</td>\n",
       "      <td>True</td>\n",
       "      <td>papillon</td>\n",
       "      <td>0.068957</td>\n",
       "      <td>True</td>\n",
       "    </tr>\n",
       "    <tr>\n",
       "      <th>2074</th>\n",
       "      <td>892420643555336193</td>\n",
       "      <td>https://pbs.twimg.com/media/DGKD1-bXoAAIAUK.jpg</td>\n",
       "      <td>1</td>\n",
       "      <td>orange</td>\n",
       "      <td>0.097049</td>\n",
       "      <td>False</td>\n",
       "      <td>bagel</td>\n",
       "      <td>0.085851</td>\n",
       "      <td>False</td>\n",
       "      <td>banana</td>\n",
       "      <td>0.076110</td>\n",
       "      <td>False</td>\n",
       "    </tr>\n",
       "  </tbody>\n",
       "</table>\n",
       "<p>2075 rows × 12 columns</p>\n",
       "</div>"
      ],
      "text/plain": [
       "                tweet_id                                          jpg_url  \\\n",
       "0     666020888022790149  https://pbs.twimg.com/media/CT4udn0WwAA0aMy.jpg   \n",
       "1     666029285002620928  https://pbs.twimg.com/media/CT42GRgUYAA5iDo.jpg   \n",
       "2     666033412701032449  https://pbs.twimg.com/media/CT4521TWwAEvMyu.jpg   \n",
       "3     666044226329800704  https://pbs.twimg.com/media/CT5Dr8HUEAA-lEu.jpg   \n",
       "4     666049248165822465  https://pbs.twimg.com/media/CT5IQmsXIAAKY4A.jpg   \n",
       "...                  ...                                              ...   \n",
       "2070  891327558926688256  https://pbs.twimg.com/media/DF6hr6BUMAAzZgT.jpg   \n",
       "2071  891689557279858688  https://pbs.twimg.com/media/DF_q7IAWsAEuuN8.jpg   \n",
       "2072  891815181378084864  https://pbs.twimg.com/media/DGBdLU1WsAANxJ9.jpg   \n",
       "2073  892177421306343426  https://pbs.twimg.com/media/DGGmoV4XsAAUL6n.jpg   \n",
       "2074  892420643555336193  https://pbs.twimg.com/media/DGKD1-bXoAAIAUK.jpg   \n",
       "\n",
       "      img_num                      p1   p1_conf  p1_dog                  p2  \\\n",
       "0           1  welsh_springer_spaniel  0.465074    True              collie   \n",
       "1           1                 redbone  0.506826    True  miniature_pinscher   \n",
       "2           1         german_shepherd  0.596461    True            malinois   \n",
       "3           1     rhodesian_ridgeback  0.408143    True             redbone   \n",
       "4           1      miniature_pinscher  0.560311    True          rottweiler   \n",
       "...       ...                     ...       ...     ...                 ...   \n",
       "2070        2                  basset  0.555712    True    english_springer   \n",
       "2071        1             paper_towel  0.170278   False  labrador_retriever   \n",
       "2072        1               chihuahua  0.716012    True            malamute   \n",
       "2073        1               chihuahua  0.323581    True            pekinese   \n",
       "2074        1                  orange  0.097049   False               bagel   \n",
       "\n",
       "       p2_conf  p2_dog                           p3   p3_conf  p3_dog  \n",
       "0     0.156665    True            shetland_sheepdog  0.061428    True  \n",
       "1     0.074192    True          rhodesian_ridgeback  0.072010    True  \n",
       "2     0.138584    True                   bloodhound  0.116197    True  \n",
       "3     0.360687    True           miniature_pinscher  0.222752    True  \n",
       "4     0.243682    True                     doberman  0.154629    True  \n",
       "...        ...     ...                          ...       ...     ...  \n",
       "2070  0.225770    True  german_short-haired_pointer  0.175219    True  \n",
       "2071  0.168086    True                      spatula  0.040836   False  \n",
       "2072  0.078253    True                       kelpie  0.031379    True  \n",
       "2073  0.090647    True                     papillon  0.068957    True  \n",
       "2074  0.085851   False                       banana  0.076110   False  \n",
       "\n",
       "[2075 rows x 12 columns]"
      ]
     },
     "execution_count": 1020,
     "metadata": {},
     "output_type": "execute_result"
    }
   ],
   "source": [
    "df_predict_clean"
   ]
  },
  {
   "cell_type": "markdown",
   "metadata": {},
   "source": [
    "#### Unconsistency appears in the datasets & Don't need retweet info\n",
    "#### Define\n",
    "`df_twitter` table\n",
    "- change all 'None', 'Nan' 'a' to 'nan'\n",
    "- drop the info about retweet"
   ]
  },
  {
   "cell_type": "markdown",
   "metadata": {},
   "source": [
    "#### Code\n"
   ]
  },
  {
   "cell_type": "code",
   "execution_count": 1136,
   "metadata": {},
   "outputs": [],
   "source": [
    "df_twitter_clean.replace('None', np.nan, inplace=True)"
   ]
  },
  {
   "cell_type": "code",
   "execution_count": 1137,
   "metadata": {},
   "outputs": [],
   "source": [
    "df_twitter_clean.replace('NaN', np.nan, inplace=True)"
   ]
  },
  {
   "cell_type": "code",
   "execution_count": 1138,
   "metadata": {},
   "outputs": [],
   "source": [
    "df_twitter_clean.replace('a', np.nan, inplace=True)"
   ]
  },
  {
   "cell_type": "code",
   "execution_count": 1139,
   "metadata": {},
   "outputs": [],
   "source": [
    "df_twitter_clean = df_twitter_clean.drop(['retweeted_status_id', 'retweeted_status_user_id','retweeted_status_timestamp'], axis=1)"
   ]
  },
  {
   "cell_type": "markdown",
   "metadata": {},
   "source": [
    "#### Test\n"
   ]
  },
  {
   "cell_type": "markdown",
   "metadata": {},
   "source": [
    "#### Tidiness: Merge three tables together\n",
    "#### Define\n",
    "- Merge three tables into one with primary key `tweet_id`"
   ]
  },
  {
   "cell_type": "markdown",
   "metadata": {},
   "source": [
    "#### Code\n"
   ]
  },
  {
   "cell_type": "code",
   "execution_count": 1140,
   "metadata": {},
   "outputs": [],
   "source": [
    "merge_2 = pd.merge(df_twitter_clean, df_predict_clean, on='tweet_id', how = 'inner')\n",
    "\n",
    "df_tweets_info = df_tweets_info.astype({'tweet_id': int})\n",
    "weratedog_clean = pd.merge(merge_2, df_tweets_info, on='tweet_id', how = 'inner')"
   ]
  },
  {
   "cell_type": "markdown",
   "metadata": {},
   "source": [
    "#### Test\n"
   ]
  },
  {
   "cell_type": "code",
   "execution_count": 1026,
   "metadata": {},
   "outputs": [
    {
     "name": "stdout",
     "output_type": "stream",
     "text": [
      "<class 'pandas.core.frame.DataFrame'>\n",
      "Int64Index: 2073 entries, 0 to 2072\n",
      "Data columns (total 28 columns):\n",
      " #   Column                 Non-Null Count  Dtype  \n",
      "---  ------                 --------------  -----  \n",
      " 0   tweet_id               2073 non-null   int64  \n",
      " 1   in_reply_to_status_id  23 non-null     float64\n",
      " 2   in_reply_to_user_id    23 non-null     float64\n",
      " 3   timestamp              2073 non-null   object \n",
      " 4   source                 2073 non-null   object \n",
      " 5   text                   2073 non-null   object \n",
      " 6   expanded_urls          2073 non-null   object \n",
      " 7   rating_numerator       2073 non-null   int64  \n",
      " 8   rating_denominator     2073 non-null   int64  \n",
      " 9   name                   1441 non-null   object \n",
      " 10  doggo                  80 non-null     object \n",
      " 11  floofer                8 non-null      object \n",
      " 12  pupper                 221 non-null    object \n",
      " 13  puppo                  24 non-null     object \n",
      " 14  jpg_url                2073 non-null   object \n",
      " 15  img_num                2073 non-null   int64  \n",
      " 16  p1                     2073 non-null   object \n",
      " 17  p1_conf                2073 non-null   float64\n",
      " 18  p1_dog                 2073 non-null   bool   \n",
      " 19  p2                     2073 non-null   object \n",
      " 20  p2_conf                2073 non-null   float64\n",
      " 21  p2_dog                 2073 non-null   bool   \n",
      " 22  p3                     2073 non-null   object \n",
      " 23  p3_conf                2073 non-null   float64\n",
      " 24  p3_dog                 2073 non-null   bool   \n",
      " 25  retweet_count          2073 non-null   int64  \n",
      " 26  favorite_count         2073 non-null   int64  \n",
      " 27  follower_count         2073 non-null   int64  \n",
      "dtypes: bool(3), float64(5), int64(7), object(13)\n",
      "memory usage: 427.2+ KB\n"
     ]
    }
   ],
   "source": [
    "weratedog_clean.info()"
   ]
  },
  {
   "cell_type": "code",
   "execution_count": 1027,
   "metadata": {},
   "outputs": [
    {
     "data": {
      "text/plain": [
       "0"
      ]
     },
     "execution_count": 1027,
     "metadata": {},
     "output_type": "execute_result"
    }
   ],
   "source": [
    "sum(weratedog_clean.duplicated())"
   ]
  },
  {
   "cell_type": "markdown",
   "metadata": {},
   "source": [
    "#### Tidiness: Melt four columns into one\n",
    "#### Define\n",
    "`df_twitter` table\n",
    "- Transform `doggo`, `floofe`, `pupper`, `puppo` into one column \n",
    "\n",
    "After melting:\n",
    "- duplicated problem happened. Need to delete the duplicated rows, with same id and timestamp to identify"
   ]
  },
  {
   "cell_type": "markdown",
   "metadata": {},
   "source": [
    "#### Code\n"
   ]
  },
  {
   "cell_type": "code",
   "execution_count": 1141,
   "metadata": {},
   "outputs": [],
   "source": [
    "weratedog_clean = pd.melt(weratedog_clean, id_vars =['tweet_id','in_reply_to_status_id','in_reply_to_user_id','timestamp',\n",
    "                                                 'source','text','expanded_urls','rating_numerator','rating_denominator',\n",
    "                                                 'name','p1', 'p1_conf', 'p1_dog', 'p2', 'p2_conf', 'p2_dog', 'p3', 'p3_conf',\n",
    "                                                 'p3_dog', 'retweet_count', 'favorite_count', 'follower_count', 'jpg_url', 'img_num'], \n",
    "                                               var_name = 'drop', value_name = 'state_of_dog')"
   ]
  },
  {
   "cell_type": "code",
   "execution_count": 1142,
   "metadata": {},
   "outputs": [],
   "source": [
    "weratedog_clean = weratedog_clean.drop(['drop'],axis=1)"
   ]
  },
  {
   "cell_type": "code",
   "execution_count": 1143,
   "metadata": {},
   "outputs": [],
   "source": [
    "weratedog_clean = weratedog_clean.drop_duplicates()  #there is duplicated happened"
   ]
  },
  {
   "cell_type": "code",
   "execution_count": 1144,
   "metadata": {},
   "outputs": [
    {
     "data": {
      "text/plain": [
       "(2406, 25)"
      ]
     },
     "execution_count": 1144,
     "metadata": {},
     "output_type": "execute_result"
    }
   ],
   "source": [
    "weratedog_clean.shape"
   ]
  },
  {
   "cell_type": "code",
   "execution_count": 1145,
   "metadata": {},
   "outputs": [
    {
     "data": {
      "text/plain": [
       "770093767776997377    3\n",
       "775898661951791106    3\n",
       "854010172552949760    3\n",
       "855851453814013952    3\n",
       "759793422261743616    3\n",
       "                     ..\n",
       "672995267319328768    1\n",
       "811744202451197953    1\n",
       "841439858740625411    1\n",
       "708109389455101952    1\n",
       "879415818425184262    1\n",
       "Name: tweet_id, Length: 2073, dtype: int64"
      ]
     },
     "execution_count": 1145,
     "metadata": {},
     "output_type": "execute_result"
    }
   ],
   "source": [
    "weratedog_clean.tweet_id.value_counts()"
   ]
  },
  {
   "cell_type": "markdown",
   "metadata": {},
   "source": [
    "- check the same id to see if the duplicated data need further investigate"
   ]
  },
  {
   "cell_type": "code",
   "execution_count": 1146,
   "metadata": {},
   "outputs": [
    {
     "data": {
      "text/plain": [
       "665     2016-08-29 03:00:36 +0000\n",
       "2738    2016-08-29 03:00:36 +0000\n",
       "4811    2016-08-29 03:00:36 +0000\n",
       "Name: timestamp, dtype: object"
      ]
     },
     "execution_count": 1146,
     "metadata": {},
     "output_type": "execute_result"
    }
   ],
   "source": [
    "weratedog_clean.query('tweet_id == \"770093767776997377\"').timestamp"
   ]
  },
  {
   "cell_type": "code",
   "execution_count": 1147,
   "metadata": {},
   "outputs": [
    {
     "data": {
      "text/html": [
       "<div>\n",
       "<style scoped>\n",
       "    .dataframe tbody tr th:only-of-type {\n",
       "        vertical-align: middle;\n",
       "    }\n",
       "\n",
       "    .dataframe tbody tr th {\n",
       "        vertical-align: top;\n",
       "    }\n",
       "\n",
       "    .dataframe thead th {\n",
       "        text-align: right;\n",
       "    }\n",
       "</style>\n",
       "<table border=\"1\" class=\"dataframe\">\n",
       "  <thead>\n",
       "    <tr style=\"text-align: right;\">\n",
       "      <th></th>\n",
       "      <th>tweet_id</th>\n",
       "      <th>in_reply_to_status_id</th>\n",
       "      <th>in_reply_to_user_id</th>\n",
       "      <th>timestamp</th>\n",
       "      <th>source</th>\n",
       "      <th>text</th>\n",
       "      <th>expanded_urls</th>\n",
       "      <th>rating_numerator</th>\n",
       "      <th>rating_denominator</th>\n",
       "      <th>name</th>\n",
       "      <th>...</th>\n",
       "      <th>p2_dog</th>\n",
       "      <th>p3</th>\n",
       "      <th>p3_conf</th>\n",
       "      <th>p3_dog</th>\n",
       "      <th>retweet_count</th>\n",
       "      <th>favorite_count</th>\n",
       "      <th>follower_count</th>\n",
       "      <th>jpg_url</th>\n",
       "      <th>img_num</th>\n",
       "      <th>state_of_dog</th>\n",
       "    </tr>\n",
       "  </thead>\n",
       "  <tbody>\n",
       "    <tr>\n",
       "      <th>665</th>\n",
       "      <td>770093767776997377</td>\n",
       "      <td>NaN</td>\n",
       "      <td>NaN</td>\n",
       "      <td>2016-08-29 03:00:36 +0000</td>\n",
       "      <td>&lt;a href=\"http://twitter.com/download/iphone\" r...</td>\n",
       "      <td>RT @dog_rates: This is just downright precious...</td>\n",
       "      <td>https://twitter.com/dog_rates/status/741067306...</td>\n",
       "      <td>12</td>\n",
       "      <td>10</td>\n",
       "      <td>just</td>\n",
       "      <td>...</td>\n",
       "      <td>True</td>\n",
       "      <td>kelpie</td>\n",
       "      <td>0.035711</td>\n",
       "      <td>True</td>\n",
       "      <td>3520</td>\n",
       "      <td>0</td>\n",
       "      <td>3200905</td>\n",
       "      <td>https://pbs.twimg.com/media/CkjMx99UoAM2B1a.jpg</td>\n",
       "      <td>1</td>\n",
       "      <td>doggo</td>\n",
       "    </tr>\n",
       "    <tr>\n",
       "      <th>2738</th>\n",
       "      <td>770093767776997377</td>\n",
       "      <td>NaN</td>\n",
       "      <td>NaN</td>\n",
       "      <td>2016-08-29 03:00:36 +0000</td>\n",
       "      <td>&lt;a href=\"http://twitter.com/download/iphone\" r...</td>\n",
       "      <td>RT @dog_rates: This is just downright precious...</td>\n",
       "      <td>https://twitter.com/dog_rates/status/741067306...</td>\n",
       "      <td>12</td>\n",
       "      <td>10</td>\n",
       "      <td>just</td>\n",
       "      <td>...</td>\n",
       "      <td>True</td>\n",
       "      <td>kelpie</td>\n",
       "      <td>0.035711</td>\n",
       "      <td>True</td>\n",
       "      <td>3520</td>\n",
       "      <td>0</td>\n",
       "      <td>3200905</td>\n",
       "      <td>https://pbs.twimg.com/media/CkjMx99UoAM2B1a.jpg</td>\n",
       "      <td>1</td>\n",
       "      <td>NaN</td>\n",
       "    </tr>\n",
       "    <tr>\n",
       "      <th>4811</th>\n",
       "      <td>770093767776997377</td>\n",
       "      <td>NaN</td>\n",
       "      <td>NaN</td>\n",
       "      <td>2016-08-29 03:00:36 +0000</td>\n",
       "      <td>&lt;a href=\"http://twitter.com/download/iphone\" r...</td>\n",
       "      <td>RT @dog_rates: This is just downright precious...</td>\n",
       "      <td>https://twitter.com/dog_rates/status/741067306...</td>\n",
       "      <td>12</td>\n",
       "      <td>10</td>\n",
       "      <td>just</td>\n",
       "      <td>...</td>\n",
       "      <td>True</td>\n",
       "      <td>kelpie</td>\n",
       "      <td>0.035711</td>\n",
       "      <td>True</td>\n",
       "      <td>3520</td>\n",
       "      <td>0</td>\n",
       "      <td>3200905</td>\n",
       "      <td>https://pbs.twimg.com/media/CkjMx99UoAM2B1a.jpg</td>\n",
       "      <td>1</td>\n",
       "      <td>pupper</td>\n",
       "    </tr>\n",
       "  </tbody>\n",
       "</table>\n",
       "<p>3 rows × 25 columns</p>\n",
       "</div>"
      ],
      "text/plain": [
       "                tweet_id  in_reply_to_status_id  in_reply_to_user_id  \\\n",
       "665   770093767776997377                    NaN                  NaN   \n",
       "2738  770093767776997377                    NaN                  NaN   \n",
       "4811  770093767776997377                    NaN                  NaN   \n",
       "\n",
       "                      timestamp  \\\n",
       "665   2016-08-29 03:00:36 +0000   \n",
       "2738  2016-08-29 03:00:36 +0000   \n",
       "4811  2016-08-29 03:00:36 +0000   \n",
       "\n",
       "                                                 source  \\\n",
       "665   <a href=\"http://twitter.com/download/iphone\" r...   \n",
       "2738  <a href=\"http://twitter.com/download/iphone\" r...   \n",
       "4811  <a href=\"http://twitter.com/download/iphone\" r...   \n",
       "\n",
       "                                                   text  \\\n",
       "665   RT @dog_rates: This is just downright precious...   \n",
       "2738  RT @dog_rates: This is just downright precious...   \n",
       "4811  RT @dog_rates: This is just downright precious...   \n",
       "\n",
       "                                          expanded_urls  rating_numerator  \\\n",
       "665   https://twitter.com/dog_rates/status/741067306...                12   \n",
       "2738  https://twitter.com/dog_rates/status/741067306...                12   \n",
       "4811  https://twitter.com/dog_rates/status/741067306...                12   \n",
       "\n",
       "      rating_denominator  name  ... p2_dog      p3   p3_conf p3_dog  \\\n",
       "665                   10  just  ...   True  kelpie  0.035711   True   \n",
       "2738                  10  just  ...   True  kelpie  0.035711   True   \n",
       "4811                  10  just  ...   True  kelpie  0.035711   True   \n",
       "\n",
       "      retweet_count  favorite_count follower_count  \\\n",
       "665            3520               0        3200905   \n",
       "2738           3520               0        3200905   \n",
       "4811           3520               0        3200905   \n",
       "\n",
       "                                              jpg_url  img_num  state_of_dog  \n",
       "665   https://pbs.twimg.com/media/CkjMx99UoAM2B1a.jpg        1         doggo  \n",
       "2738  https://pbs.twimg.com/media/CkjMx99UoAM2B1a.jpg        1           NaN  \n",
       "4811  https://pbs.twimg.com/media/CkjMx99UoAM2B1a.jpg        1        pupper  \n",
       "\n",
       "[3 rows x 25 columns]"
      ]
     },
     "execution_count": 1147,
     "metadata": {},
     "output_type": "execute_result"
    }
   ],
   "source": [
    "weratedog_clean.query('tweet_id == \"770093767776997377\"')"
   ]
  },
  {
   "cell_type": "code",
   "execution_count": 1035,
   "metadata": {},
   "outputs": [
    {
     "data": {
      "text/plain": [
       "160     2017-04-17 16:34:26 +0000\n",
       "2233    2017-04-17 16:34:26 +0000\n",
       "4306    2017-04-17 16:34:26 +0000\n",
       "Name: timestamp, dtype: object"
      ]
     },
     "execution_count": 1035,
     "metadata": {},
     "output_type": "execute_result"
    }
   ],
   "source": [
    "weratedog_clean.query('tweet_id == \"854010172552949760\"').timestamp"
   ]
  },
  {
   "cell_type": "code",
   "execution_count": 1148,
   "metadata": {},
   "outputs": [
    {
     "data": {
      "text/html": [
       "<div>\n",
       "<style scoped>\n",
       "    .dataframe tbody tr th:only-of-type {\n",
       "        vertical-align: middle;\n",
       "    }\n",
       "\n",
       "    .dataframe tbody tr th {\n",
       "        vertical-align: top;\n",
       "    }\n",
       "\n",
       "    .dataframe thead th {\n",
       "        text-align: right;\n",
       "    }\n",
       "</style>\n",
       "<table border=\"1\" class=\"dataframe\">\n",
       "  <thead>\n",
       "    <tr style=\"text-align: right;\">\n",
       "      <th></th>\n",
       "      <th>tweet_id</th>\n",
       "      <th>in_reply_to_status_id</th>\n",
       "      <th>in_reply_to_user_id</th>\n",
       "      <th>timestamp</th>\n",
       "      <th>source</th>\n",
       "      <th>text</th>\n",
       "      <th>expanded_urls</th>\n",
       "      <th>rating_numerator</th>\n",
       "      <th>rating_denominator</th>\n",
       "      <th>name</th>\n",
       "      <th>...</th>\n",
       "      <th>p2_dog</th>\n",
       "      <th>p3</th>\n",
       "      <th>p3_conf</th>\n",
       "      <th>p3_dog</th>\n",
       "      <th>retweet_count</th>\n",
       "      <th>favorite_count</th>\n",
       "      <th>follower_count</th>\n",
       "      <th>jpg_url</th>\n",
       "      <th>img_num</th>\n",
       "      <th>state_of_dog</th>\n",
       "    </tr>\n",
       "  </thead>\n",
       "  <tbody>\n",
       "    <tr>\n",
       "      <th>160</th>\n",
       "      <td>854010172552949760</td>\n",
       "      <td>NaN</td>\n",
       "      <td>NaN</td>\n",
       "      <td>2017-04-17 16:34:26 +0000</td>\n",
       "      <td>&lt;a href=\"http://twitter.com/download/iphone\" r...</td>\n",
       "      <td>At first I thought this was a shy doggo, but i...</td>\n",
       "      <td>https://twitter.com/dog_rates/status/854010172...</td>\n",
       "      <td>11</td>\n",
       "      <td>10</td>\n",
       "      <td>NaN</td>\n",
       "      <td>...</td>\n",
       "      <td>True</td>\n",
       "      <td>border_collie</td>\n",
       "      <td>0.131706</td>\n",
       "      <td>True</td>\n",
       "      <td>3433</td>\n",
       "      <td>17169</td>\n",
       "      <td>3200892</td>\n",
       "      <td>https://pbs.twimg.com/media/C9oNt91WAAAFSLS.jpg</td>\n",
       "      <td>1</td>\n",
       "      <td>doggo</td>\n",
       "    </tr>\n",
       "    <tr>\n",
       "      <th>2233</th>\n",
       "      <td>854010172552949760</td>\n",
       "      <td>NaN</td>\n",
       "      <td>NaN</td>\n",
       "      <td>2017-04-17 16:34:26 +0000</td>\n",
       "      <td>&lt;a href=\"http://twitter.com/download/iphone\" r...</td>\n",
       "      <td>At first I thought this was a shy doggo, but i...</td>\n",
       "      <td>https://twitter.com/dog_rates/status/854010172...</td>\n",
       "      <td>11</td>\n",
       "      <td>10</td>\n",
       "      <td>NaN</td>\n",
       "      <td>...</td>\n",
       "      <td>True</td>\n",
       "      <td>border_collie</td>\n",
       "      <td>0.131706</td>\n",
       "      <td>True</td>\n",
       "      <td>3433</td>\n",
       "      <td>17169</td>\n",
       "      <td>3200892</td>\n",
       "      <td>https://pbs.twimg.com/media/C9oNt91WAAAFSLS.jpg</td>\n",
       "      <td>1</td>\n",
       "      <td>floofer</td>\n",
       "    </tr>\n",
       "    <tr>\n",
       "      <th>4306</th>\n",
       "      <td>854010172552949760</td>\n",
       "      <td>NaN</td>\n",
       "      <td>NaN</td>\n",
       "      <td>2017-04-17 16:34:26 +0000</td>\n",
       "      <td>&lt;a href=\"http://twitter.com/download/iphone\" r...</td>\n",
       "      <td>At first I thought this was a shy doggo, but i...</td>\n",
       "      <td>https://twitter.com/dog_rates/status/854010172...</td>\n",
       "      <td>11</td>\n",
       "      <td>10</td>\n",
       "      <td>NaN</td>\n",
       "      <td>...</td>\n",
       "      <td>True</td>\n",
       "      <td>border_collie</td>\n",
       "      <td>0.131706</td>\n",
       "      <td>True</td>\n",
       "      <td>3433</td>\n",
       "      <td>17169</td>\n",
       "      <td>3200892</td>\n",
       "      <td>https://pbs.twimg.com/media/C9oNt91WAAAFSLS.jpg</td>\n",
       "      <td>1</td>\n",
       "      <td>NaN</td>\n",
       "    </tr>\n",
       "  </tbody>\n",
       "</table>\n",
       "<p>3 rows × 25 columns</p>\n",
       "</div>"
      ],
      "text/plain": [
       "                tweet_id  in_reply_to_status_id  in_reply_to_user_id  \\\n",
       "160   854010172552949760                    NaN                  NaN   \n",
       "2233  854010172552949760                    NaN                  NaN   \n",
       "4306  854010172552949760                    NaN                  NaN   \n",
       "\n",
       "                      timestamp  \\\n",
       "160   2017-04-17 16:34:26 +0000   \n",
       "2233  2017-04-17 16:34:26 +0000   \n",
       "4306  2017-04-17 16:34:26 +0000   \n",
       "\n",
       "                                                 source  \\\n",
       "160   <a href=\"http://twitter.com/download/iphone\" r...   \n",
       "2233  <a href=\"http://twitter.com/download/iphone\" r...   \n",
       "4306  <a href=\"http://twitter.com/download/iphone\" r...   \n",
       "\n",
       "                                                   text  \\\n",
       "160   At first I thought this was a shy doggo, but i...   \n",
       "2233  At first I thought this was a shy doggo, but i...   \n",
       "4306  At first I thought this was a shy doggo, but i...   \n",
       "\n",
       "                                          expanded_urls  rating_numerator  \\\n",
       "160   https://twitter.com/dog_rates/status/854010172...                11   \n",
       "2233  https://twitter.com/dog_rates/status/854010172...                11   \n",
       "4306  https://twitter.com/dog_rates/status/854010172...                11   \n",
       "\n",
       "      rating_denominator name  ... p2_dog             p3   p3_conf p3_dog  \\\n",
       "160                   10  NaN  ...   True  border_collie  0.131706   True   \n",
       "2233                  10  NaN  ...   True  border_collie  0.131706   True   \n",
       "4306                  10  NaN  ...   True  border_collie  0.131706   True   \n",
       "\n",
       "      retweet_count  favorite_count follower_count  \\\n",
       "160            3433           17169        3200892   \n",
       "2233           3433           17169        3200892   \n",
       "4306           3433           17169        3200892   \n",
       "\n",
       "                                              jpg_url  img_num  state_of_dog  \n",
       "160   https://pbs.twimg.com/media/C9oNt91WAAAFSLS.jpg        1         doggo  \n",
       "2233  https://pbs.twimg.com/media/C9oNt91WAAAFSLS.jpg        1       floofer  \n",
       "4306  https://pbs.twimg.com/media/C9oNt91WAAAFSLS.jpg        1           NaN  \n",
       "\n",
       "[3 rows x 25 columns]"
      ]
     },
     "execution_count": 1148,
     "metadata": {},
     "output_type": "execute_result"
    }
   ],
   "source": [
    "weratedog_clean.query('tweet_id == \"854010172552949760\"')"
   ]
  },
  {
   "cell_type": "code",
   "execution_count": 1149,
   "metadata": {},
   "outputs": [
    {
     "data": {
      "text/plain": [
       "154     2017-04-22 18:31:02 +0000\n",
       "2227    2017-04-22 18:31:02 +0000\n",
       "6373    2017-04-22 18:31:02 +0000\n",
       "Name: timestamp, dtype: object"
      ]
     },
     "execution_count": 1149,
     "metadata": {},
     "output_type": "execute_result"
    }
   ],
   "source": [
    "weratedog_clean.query('tweet_id == \"855851453814013952\"').timestamp"
   ]
  },
  {
   "cell_type": "code",
   "execution_count": 1150,
   "metadata": {},
   "outputs": [
    {
     "data": {
      "text/plain": [
       "1739    2015-12-02 21:06:56 +0000\n",
       "5885    2015-12-02 21:06:56 +0000\n",
       "Name: timestamp, dtype: object"
      ]
     },
     "execution_count": 1150,
     "metadata": {},
     "output_type": "execute_result"
    }
   ],
   "source": [
    "weratedog_clean.query('tweet_id == \"672160042234327040\"').timestamp"
   ]
  },
  {
   "cell_type": "code",
   "execution_count": 1039,
   "metadata": {},
   "outputs": [
    {
     "name": "stdout",
     "output_type": "stream",
     "text": [
      "<class 'pandas.core.frame.DataFrame'>\n",
      "Int64Index: 2406 entries, 0 to 7108\n",
      "Data columns (total 25 columns):\n",
      " #   Column                 Non-Null Count  Dtype  \n",
      "---  ------                 --------------  -----  \n",
      " 0   tweet_id               2406 non-null   int64  \n",
      " 1   in_reply_to_status_id  27 non-null     float64\n",
      " 2   in_reply_to_user_id    27 non-null     float64\n",
      " 3   timestamp              2406 non-null   object \n",
      " 4   source                 2406 non-null   object \n",
      " 5   text                   2406 non-null   object \n",
      " 6   expanded_urls          2406 non-null   object \n",
      " 7   rating_numerator       2406 non-null   int64  \n",
      " 8   rating_denominator     2406 non-null   int64  \n",
      " 9   name                   1640 non-null   object \n",
      " 10  p1                     2406 non-null   object \n",
      " 11  p1_conf                2406 non-null   float64\n",
      " 12  p1_dog                 2406 non-null   bool   \n",
      " 13  p2                     2406 non-null   object \n",
      " 14  p2_conf                2406 non-null   float64\n",
      " 15  p2_dog                 2406 non-null   bool   \n",
      " 16  p3                     2406 non-null   object \n",
      " 17  p3_conf                2406 non-null   float64\n",
      " 18  p3_dog                 2406 non-null   bool   \n",
      " 19  retweet_count          2406 non-null   int64  \n",
      " 20  favorite_count         2406 non-null   int64  \n",
      " 21  follower_count         2406 non-null   int64  \n",
      " 22  jpg_url                2406 non-null   object \n",
      " 23  img_num                2406 non-null   int64  \n",
      " 24  state_of_dog           333 non-null    object \n",
      "dtypes: bool(3), float64(5), int64(7), object(10)\n",
      "memory usage: 439.4+ KB\n"
     ]
    }
   ],
   "source": [
    "weratedog_clean.info()"
   ]
  },
  {
   "cell_type": "markdown",
   "metadata": {},
   "source": [
    "- for the same id post, even the timestamps are the same\n",
    "- basically because of the only different state of dog\n",
    "- but we don't have a lot of data for state of dog, so keep it"
   ]
  },
  {
   "cell_type": "markdown",
   "metadata": {},
   "source": [
    "#### Test\n"
   ]
  },
  {
   "cell_type": "code",
   "execution_count": 1151,
   "metadata": {},
   "outputs": [
    {
     "data": {
      "text/plain": [
       "pupper     221\n",
       "doggo       80\n",
       "puppo       24\n",
       "floofer      8\n",
       "Name: state_of_dog, dtype: int64"
      ]
     },
     "execution_count": 1151,
     "metadata": {},
     "output_type": "execute_result"
    }
   ],
   "source": [
    "weratedog_clean.state_of_dog.value_counts()"
   ]
  },
  {
   "cell_type": "code",
   "execution_count": 1152,
   "metadata": {},
   "outputs": [
    {
     "data": {
      "text/plain": [
       "Cooper        13\n",
       "Charlie       12\n",
       "Oliver        12\n",
       "Bo            11\n",
       "Lucy          11\n",
       "              ..\n",
       "Mattie         1\n",
       "Mabel          1\n",
       "Cilantro       1\n",
       "William        1\n",
       "incredibly     1\n",
       "Name: name, Length: 934, dtype: int64"
      ]
     },
     "execution_count": 1152,
     "metadata": {},
     "output_type": "execute_result"
    }
   ],
   "source": [
    "weratedog_clean.name.value_counts()"
   ]
  },
  {
   "cell_type": "code",
   "execution_count": 1153,
   "metadata": {},
   "outputs": [
    {
     "data": {
      "text/plain": [
       "770093767776997377    3\n",
       "775898661951791106    3\n",
       "854010172552949760    3\n",
       "855851453814013952    3\n",
       "759793422261743616    3\n",
       "                     ..\n",
       "672995267319328768    1\n",
       "811744202451197953    1\n",
       "841439858740625411    1\n",
       "708109389455101952    1\n",
       "879415818425184262    1\n",
       "Name: tweet_id, Length: 2073, dtype: int64"
      ]
     },
     "execution_count": 1153,
     "metadata": {},
     "output_type": "execute_result"
    }
   ],
   "source": [
    "weratedog_clean['tweet_id'].value_counts()"
   ]
  },
  {
   "cell_type": "code",
   "execution_count": 1154,
   "metadata": {},
   "outputs": [
    {
     "data": {
      "text/plain": [
       "0"
      ]
     },
     "execution_count": 1154,
     "metadata": {},
     "output_type": "execute_result"
    }
   ],
   "source": [
    "sum(weratedog_clean.duplicated())"
   ]
  },
  {
   "cell_type": "markdown",
   "metadata": {},
   "source": [
    "#### Data Type\n",
    "#### Define\n",
    "merged table\n",
    "- change datatype of tweet_id to string\n",
    "\n",
    "merged table\n",
    "- change datatype of tweet_id, in_reply_to_status_id, in_reply_to_user_id to string\n",
    "- change `timestamp`, `retweeted_status_timestamp` to date\n"
   ]
  },
  {
   "cell_type": "markdown",
   "metadata": {},
   "source": [
    "#### Code\n"
   ]
  },
  {
   "cell_type": "code",
   "execution_count": 1156,
   "metadata": {},
   "outputs": [],
   "source": [
    "weratedog_clean = weratedog_clean.astype({'tweet_id': str, 'in_reply_to_status_id': str, \n",
    "                                            'in_reply_to_user_id': str})"
   ]
  },
  {
   "cell_type": "code",
   "execution_count": 1157,
   "metadata": {},
   "outputs": [],
   "source": [
    "weratedog_clean['timestamp'] = pd.to_datetime(weratedog_clean['timestamp']) \n"
   ]
  },
  {
   "cell_type": "markdown",
   "metadata": {},
   "source": [
    "#### Test\n"
   ]
  },
  {
   "cell_type": "code",
   "execution_count": 1158,
   "metadata": {},
   "outputs": [
    {
     "name": "stdout",
     "output_type": "stream",
     "text": [
      "<class 'pandas.core.frame.DataFrame'>\n",
      "Int64Index: 2406 entries, 0 to 7108\n",
      "Data columns (total 25 columns):\n",
      " #   Column                 Non-Null Count  Dtype              \n",
      "---  ------                 --------------  -----              \n",
      " 0   tweet_id               2406 non-null   object             \n",
      " 1   in_reply_to_status_id  2406 non-null   object             \n",
      " 2   in_reply_to_user_id    2406 non-null   object             \n",
      " 3   timestamp              2406 non-null   datetime64[ns, UTC]\n",
      " 4   source                 2406 non-null   object             \n",
      " 5   text                   2406 non-null   object             \n",
      " 6   expanded_urls          2406 non-null   object             \n",
      " 7   rating_numerator       2406 non-null   int64              \n",
      " 8   rating_denominator     2406 non-null   int64              \n",
      " 9   name                   1640 non-null   object             \n",
      " 10  p1                     2406 non-null   object             \n",
      " 11  p1_conf                2406 non-null   float64            \n",
      " 12  p1_dog                 2406 non-null   bool               \n",
      " 13  p2                     2406 non-null   object             \n",
      " 14  p2_conf                2406 non-null   float64            \n",
      " 15  p2_dog                 2406 non-null   bool               \n",
      " 16  p3                     2406 non-null   object             \n",
      " 17  p3_conf                2406 non-null   float64            \n",
      " 18  p3_dog                 2406 non-null   bool               \n",
      " 19  retweet_count          2406 non-null   int64              \n",
      " 20  favorite_count         2406 non-null   int64              \n",
      " 21  follower_count         2406 non-null   int64              \n",
      " 22  jpg_url                2406 non-null   object             \n",
      " 23  img_num                2406 non-null   int64              \n",
      " 24  state_of_dog           333 non-null    object             \n",
      "dtypes: bool(3), datetime64[ns, UTC](1), float64(3), int64(6), object(12)\n",
      "memory usage: 439.4+ KB\n"
     ]
    }
   ],
   "source": [
    "weratedog_clean.info()"
   ]
  },
  {
   "cell_type": "markdown",
   "metadata": {},
   "source": [
    "<a id='Analyzing'></a>\n",
    "#### Part V - Analyzing"
   ]
  },
  {
   "cell_type": "code",
   "execution_count": 1159,
   "metadata": {},
   "outputs": [],
   "source": [
    "#store the data\n",
    "weratedog_clean.to_csv('weratedog_clean.csv', index=False)"
   ]
  },
  {
   "cell_type": "code",
   "execution_count": 1160,
   "metadata": {},
   "outputs": [
    {
     "name": "stdout",
     "output_type": "stream",
     "text": [
      "<class 'pandas.core.frame.DataFrame'>\n",
      "Int64Index: 2406 entries, 0 to 7108\n",
      "Data columns (total 25 columns):\n",
      " #   Column                 Non-Null Count  Dtype              \n",
      "---  ------                 --------------  -----              \n",
      " 0   tweet_id               2406 non-null   object             \n",
      " 1   in_reply_to_status_id  2406 non-null   object             \n",
      " 2   in_reply_to_user_id    2406 non-null   object             \n",
      " 3   timestamp              2406 non-null   datetime64[ns, UTC]\n",
      " 4   source                 2406 non-null   object             \n",
      " 5   text                   2406 non-null   object             \n",
      " 6   expanded_urls          2406 non-null   object             \n",
      " 7   rating_numerator       2406 non-null   int64              \n",
      " 8   rating_denominator     2406 non-null   int64              \n",
      " 9   name                   1640 non-null   object             \n",
      " 10  p1                     2406 non-null   object             \n",
      " 11  p1_conf                2406 non-null   float64            \n",
      " 12  p1_dog                 2406 non-null   bool               \n",
      " 13  p2                     2406 non-null   object             \n",
      " 14  p2_conf                2406 non-null   float64            \n",
      " 15  p2_dog                 2406 non-null   bool               \n",
      " 16  p3                     2406 non-null   object             \n",
      " 17  p3_conf                2406 non-null   float64            \n",
      " 18  p3_dog                 2406 non-null   bool               \n",
      " 19  retweet_count          2406 non-null   int64              \n",
      " 20  favorite_count         2406 non-null   int64              \n",
      " 21  follower_count         2406 non-null   int64              \n",
      " 22  jpg_url                2406 non-null   object             \n",
      " 23  img_num                2406 non-null   int64              \n",
      " 24  state_of_dog           333 non-null    object             \n",
      "dtypes: bool(3), datetime64[ns, UTC](1), float64(3), int64(6), object(12)\n",
      "memory usage: 439.4+ KB\n"
     ]
    }
   ],
   "source": [
    "weratedog_clean.info()"
   ]
  },
  {
   "cell_type": "markdown",
   "metadata": {},
   "source": [
    "##### 1. what is the rate distribution of the posting dogs?"
   ]
  },
  {
   "cell_type": "code",
   "execution_count": 1401,
   "metadata": {},
   "outputs": [],
   "source": [
    "base_color = sb.color_palette()[0]"
   ]
  },
  {
   "cell_type": "code",
   "execution_count": 1402,
   "metadata": {},
   "outputs": [],
   "source": [
    "rate = (weratedog_clean['rating_numerator'] / weratedog_clean_1['rating_denominator']).round(2)"
   ]
  },
  {
   "cell_type": "code",
   "execution_count": 1403,
   "metadata": {},
   "outputs": [],
   "source": [
    "weratedog_clean_1['rate'] = rate"
   ]
  },
  {
   "cell_type": "code",
   "execution_count": 1404,
   "metadata": {},
   "outputs": [
    {
     "data": {
      "text/plain": [
       "1.20      560\n",
       "1.10      495\n",
       "1.00      491\n",
       "1.30      333\n",
       "0.90      168\n",
       "0.80      110\n",
       "0.70       59\n",
       "1.40       58\n",
       "0.50       38\n",
       "0.60       33\n",
       "0.30       20\n",
       "0.40       15\n",
       "0.20       10\n",
       "0.10        4\n",
       "2.70        2\n",
       "0.00        2\n",
       "177.60      1\n",
       "2.60        1\n",
       "3.43        1\n",
       "0.64        1\n",
       "42.00       1\n",
       "7.50        1\n",
       "1.50        1\n",
       "0.82        1\n",
       "Name: rate, dtype: int64"
      ]
     },
     "execution_count": 1404,
     "metadata": {},
     "output_type": "execute_result"
    }
   ],
   "source": [
    "weratedog_clean_1['rate'].value_counts()"
   ]
  },
  {
   "cell_type": "code",
   "execution_count": 1411,
   "metadata": {},
   "outputs": [
    {
     "data": {
      "image/png": "[encoded data removed]",
      "text/plain": [
       "<Figure size 432x288 with 1 Axes>"
      ]
     },
     "metadata": {
      "needs_background": "light"
     },
     "output_type": "display_data"
    }
   ],
   "source": [
    "rate_order = weratedog_clean_1['rate'].value_counts().index\n",
    "ax = sb.countplot(data = weratedog_clean_1, x = 'rate', color = base_color, order = rate_order)\n",
    "plt.xlabel('rate')\n",
    "plt.xticks(rotation = 90)\n",
    "plt.title('Rate Distribution');\n"
   ]
  },
  {
   "cell_type": "markdown",
   "metadata": {},
   "source": [
    "> People gave really high score to the dogs, mostly above 1"
   ]
  },
  {
   "cell_type": "markdown",
   "metadata": {},
   "source": [
    "##### 2. Is there any state of dog get higher rating?"
   ]
  },
  {
   "cell_type": "code",
   "execution_count": 1420,
   "metadata": {},
   "outputs": [
    {
     "data": {
      "text/plain": [
       "pupper     221\n",
       "doggo       80\n",
       "puppo       24\n",
       "floofer      8\n",
       "Name: state_of_dog, dtype: int64"
      ]
     },
     "execution_count": 1420,
     "metadata": {},
     "output_type": "execute_result"
    }
   ],
   "source": [
    "weratedog_clean_1['state_of_dog'].value_counts()"
   ]
  },
  {
   "cell_type": "code",
   "execution_count": 1435,
   "metadata": {},
   "outputs": [
    {
     "data": {
      "image/png": "[encoded data removed]",
      "text/plain": [
       "<Figure size 432x288 with 1 Axes>"
      ]
     },
     "metadata": {
      "needs_background": "light"
     },
     "output_type": "display_data"
    }
   ],
   "source": [
    "sb.violinplot(data = weratedog_clean_1, y = 'state_of_dog', x = 'rate',color = base_color)\n",
    "plt.xlim(0,2)\n",
    "plt.xticks(rotation = 15)\n",
    "plt.title('Score VS State of dog');"
   ]
  },
  {
   "cell_type": "markdown",
   "metadata": {},
   "source": [
    "- a lot of puppo get higher score in general\n",
    "- people have different taste toward pupper\n",
    "- doggo and floofer in general have similar mean score for people"
   ]
  },
  {
   "cell_type": "markdown",
   "metadata": {},
   "source": [
    "##### 3. Any relationship between  score and favorite_count?"
   ]
  },
  {
   "cell_type": "code",
   "execution_count": 1437,
   "metadata": {},
   "outputs": [
    {
     "data": {
      "image/png": "[encoded data removed]",
      "text/plain": [
       "<Figure size 432x288 with 1 Axes>"
      ]
     },
     "metadata": {
      "needs_background": "light"
     },
     "output_type": "display_data"
    }
   ],
   "source": [
    "plt.scatter(data = weratedog_clean_1, x = 'rate', y = 'favorite_count', alpha = 1/8)\n",
    "# plt.plot([10,60], [10,60]) # diagonal line from (10,10) to (60,60)\n",
    "plt.xlim(0,2)\n",
    "plt.xlabel('rate')\n",
    "plt.ylabel('favorite count')\n",
    "plt.title('favorite count VS Score of dog');"
   ]
  },
  {
   "cell_type": "markdown",
   "metadata": {},
   "source": [
    "- hard to tell from plot, we need to check out the regression coeff and p-value to see"
   ]
  },
  {
   "cell_type": "code",
   "execution_count": 1438,
   "metadata": {},
   "outputs": [],
   "source": [
    "weratedog_clean_1 = weratedog_clean.copy()\n",
    "#copy of the unscaling data"
   ]
  },
  {
   "cell_type": "code",
   "execution_count": 1440,
   "metadata": {},
   "outputs": [],
   "source": [
    "#scale the data for further analyzing\n",
    "from sklearn.preprocessing import StandardScaler\n",
    "\n",
    "scaler = StandardScaler()\n",
    "weratedog_clean[['favorite_count', 'rate','follower_count','retweet_count']] = scaler.fit_transform(weratedog_clean[['favorite_count', 'rate','follower_count','retweet_count']])\n"
   ]
  },
  {
   "cell_type": "code",
   "execution_count": 1441,
   "metadata": {},
   "outputs": [
    {
     "data": {
      "text/html": [
       "<table class=\"simpletable\">\n",
       "<caption>OLS Regression Results</caption>\n",
       "<tr>\n",
       "  <th>Dep. Variable:</th>     <td>favorite_count</td>  <th>  R-squared:         </th> <td>   0.689</td>\n",
       "</tr>\n",
       "<tr>\n",
       "  <th>Model:</th>                   <td>OLS</td>       <th>  Adj. R-squared:    </th> <td>   0.688</td>\n",
       "</tr>\n",
       "<tr>\n",
       "  <th>Method:</th>             <td>Least Squares</td>  <th>  F-statistic:       </th> <td>   1772.</td>\n",
       "</tr>\n",
       "<tr>\n",
       "  <th>Date:</th>             <td>Sun, 26 Jul 2020</td> <th>  Prob (F-statistic):</th>  <td>  0.00</td> \n",
       "</tr>\n",
       "<tr>\n",
       "  <th>Time:</th>                 <td>20:52:05</td>     <th>  Log-Likelihood:    </th> <td> -2009.6</td>\n",
       "</tr>\n",
       "<tr>\n",
       "  <th>No. Observations:</th>      <td>  2406</td>      <th>  AIC:               </th> <td>   4027.</td>\n",
       "</tr>\n",
       "<tr>\n",
       "  <th>Df Residuals:</th>          <td>  2402</td>      <th>  BIC:               </th> <td>   4050.</td>\n",
       "</tr>\n",
       "<tr>\n",
       "  <th>Df Model:</th>              <td>     3</td>      <th>                     </th>     <td> </td>   \n",
       "</tr>\n",
       "<tr>\n",
       "  <th>Covariance Type:</th>      <td>nonrobust</td>    <th>                     </th>     <td> </td>   \n",
       "</tr>\n",
       "</table>\n",
       "<table class=\"simpletable\">\n",
       "<tr>\n",
       "         <td></td>           <th>coef</th>     <th>std err</th>      <th>t</th>      <th>P>|t|</th>  <th>[0.025</th>    <th>0.975]</th>  \n",
       "</tr>\n",
       "<tr>\n",
       "  <th>intercept</th>      <td>-2.253e-16</td> <td>    0.011</td> <td>-1.98e-14</td> <td> 1.000</td> <td>   -0.022</td> <td>    0.022</td>\n",
       "</tr>\n",
       "<tr>\n",
       "  <th>rate</th>           <td>   -0.0017</td> <td>    0.011</td> <td>   -0.147</td> <td> 0.883</td> <td>   -0.024</td> <td>    0.021</td>\n",
       "</tr>\n",
       "<tr>\n",
       "  <th>follower_count</th> <td>   -0.2289</td> <td>    0.012</td> <td>  -18.862</td> <td> 0.000</td> <td>   -0.253</td> <td>   -0.205</td>\n",
       "</tr>\n",
       "<tr>\n",
       "  <th>retweet_count</th>  <td>    0.7225</td> <td>    0.012</td> <td>   59.545</td> <td> 0.000</td> <td>    0.699</td> <td>    0.746</td>\n",
       "</tr>\n",
       "</table>\n",
       "<table class=\"simpletable\">\n",
       "<tr>\n",
       "  <th>Omnibus:</th>       <td>1811.556</td> <th>  Durbin-Watson:     </th>  <td>   1.498</td> \n",
       "</tr>\n",
       "<tr>\n",
       "  <th>Prob(Omnibus):</th>  <td> 0.000</td>  <th>  Jarque-Bera (JB):  </th> <td>171173.961</td>\n",
       "</tr>\n",
       "<tr>\n",
       "  <th>Skew:</th>           <td>-2.838</td>  <th>  Prob(JB):          </th>  <td>    0.00</td> \n",
       "</tr>\n",
       "<tr>\n",
       "  <th>Kurtosis:</th>       <td>43.930</td>  <th>  Cond. No.          </th>  <td>    1.44</td> \n",
       "</tr>\n",
       "</table><br/><br/>Warnings:<br/>[1] Standard Errors assume that the covariance matrix of the errors is correctly specified."
      ],
      "text/plain": [
       "<class 'statsmodels.iolib.summary.Summary'>\n",
       "\"\"\"\n",
       "                            OLS Regression Results                            \n",
       "==============================================================================\n",
       "Dep. Variable:         favorite_count   R-squared:                       0.689\n",
       "Model:                            OLS   Adj. R-squared:                  0.688\n",
       "Method:                 Least Squares   F-statistic:                     1772.\n",
       "Date:                Sun, 26 Jul 2020   Prob (F-statistic):               0.00\n",
       "Time:                        20:52:05   Log-Likelihood:                -2009.6\n",
       "No. Observations:                2406   AIC:                             4027.\n",
       "Df Residuals:                    2402   BIC:                             4050.\n",
       "Df Model:                           3                                         \n",
       "Covariance Type:            nonrobust                                         \n",
       "==================================================================================\n",
       "                     coef    std err          t      P>|t|      [0.025      0.975]\n",
       "----------------------------------------------------------------------------------\n",
       "intercept      -2.253e-16      0.011  -1.98e-14      1.000      -0.022       0.022\n",
       "rate              -0.0017      0.011     -0.147      0.883      -0.024       0.021\n",
       "follower_count    -0.2289      0.012    -18.862      0.000      -0.253      -0.205\n",
       "retweet_count      0.7225      0.012     59.545      0.000       0.699       0.746\n",
       "==============================================================================\n",
       "Omnibus:                     1811.556   Durbin-Watson:                   1.498\n",
       "Prob(Omnibus):                  0.000   Jarque-Bera (JB):           171173.961\n",
       "Skew:                          -2.838   Prob(JB):                         0.00\n",
       "Kurtosis:                      43.930   Cond. No.                         1.44\n",
       "==============================================================================\n",
       "\n",
       "Warnings:\n",
       "[1] Standard Errors assume that the covariance matrix of the errors is correctly specified.\n",
       "\"\"\""
      ]
     },
     "execution_count": 1441,
     "metadata": {},
     "output_type": "execute_result"
    }
   ],
   "source": [
    "import statsmodels.api as sms\n",
    "\n",
    "weratedog_clean['intercept'] = 1\n",
    "\n",
    "lm = sms.OLS(weratedog_clean['favorite_count'], weratedog_clean[['intercept','rate', 'follower_count','retweet_count']])\n",
    "results = lm.fit()\n",
    "results.summary()"
   ]
  },
  {
   "cell_type": "markdown",
   "metadata": {},
   "source": [
    "- Strong relationship between favorite count and follower_count,retweet_count, which makes sense\n",
    "- From this analyzing, no relationship between favorite count and score to the dog"
   ]
  },
  {
   "cell_type": "markdown",
   "metadata": {},
   "source": [
    "##### 4. which breed of dog is most puplar for posting based on the predicton?"
   ]
  },
  {
   "cell_type": "code",
   "execution_count": 1251,
   "metadata": {},
   "outputs": [],
   "source": [
    "prediction = weratedog_clean[['p1','p2','p3','p1_dog','p2_dog','p3_dog']]\n",
    "prediction\n",
    "\n",
    "from collections import defaultdict\n",
    "dogs = defaultdict(int)\n",
    "\n",
    "for index, row in prediction.iterrows():\n",
    "    if row.p1_dog:\n",
    "        dogs[row.p1] += 1\n",
    "    elif row.p2_dog:\n",
    "        dogs[row.p2] += 1\n",
    "    elif row.p3_dog:\n",
    "        dogs[row.p3] += 1\n",
    "#print(dogs)\n"
   ]
  },
  {
   "cell_type": "code",
   "execution_count": 1325,
   "metadata": {},
   "outputs": [
    {
     "data": {
      "image/png": "[encoded data removed]",
      "text/plain": [
       "<Figure size 1440x216 with 1 Axes>"
      ]
     },
     "metadata": {
      "needs_background": "light"
     },
     "output_type": "display_data"
    }
   ],
   "source": [
    "plt.figure(figsize=(20, 3))\n",
    "\n",
    "keys = dogs.keys()\n",
    "values = dogs.values()\n",
    "plt.bar(keys, values)\n",
    "plt.xticks(rotation = 90)\n",
    "plt.xlabel('breed of dog')\n",
    "plt.ylabel('count')\n",
    "plt.title('Number of breed of dog');"
   ]
  },
  {
   "cell_type": "code",
   "execution_count": 1277,
   "metadata": {},
   "outputs": [
    {
     "data": {
      "text/plain": [
       "golden_retriever      217\n",
       "labrador_retriever    133\n",
       "pembroke              108\n",
       "chihuahua             105\n",
       "pug                    76\n",
       "                     ... \n",
       "scotch_terrier          1\n",
       "entlebucher             1\n",
       "japanese_spaniel        1\n",
       "standard_schnauzer      1\n",
       "irish_wolfhound         1\n",
       "Name: 0, Length: 113, dtype: int64"
      ]
     },
     "execution_count": 1277,
     "metadata": {},
     "output_type": "execute_result"
    }
   ],
   "source": [
    "ts = pd.DataFrame.from_dict(dogs,orient='index')\n",
    "orders = ts[0].sort_values(ascending = False)\n",
    "orders"
   ]
  },
  {
   "cell_type": "markdown",
   "metadata": {},
   "source": [
    "- golden_retriever is the most popular breed of dog for posting to weeatedog id\n",
    "- people like posting labrador_retriever, pembroke and chihuahua too"
   ]
  },
  {
   "cell_type": "markdown",
   "metadata": {},
   "source": [
    "##### 5. Is the prediction accuracy from the observations fullfil the confident?"
   ]
  },
  {
   "cell_type": "code",
   "execution_count": 1275,
   "metadata": {},
   "outputs": [
    {
     "data": {
      "text/plain": [
       "0.7398171238570241"
      ]
     },
     "execution_count": 1275,
     "metadata": {},
     "output_type": "execute_result"
    }
   ],
   "source": [
    "p1_dog = weratedog_clean.p1_dog.sum()\n",
    "p1_accuacy = p1_dog / weratedog_clean.p1_dog.count()\n",
    "p1_accuacy"
   ]
  },
  {
   "cell_type": "code",
   "execution_count": 1270,
   "metadata": {},
   "outputs": [
    {
     "data": {
      "text/plain": [
       "0.5980334637572735"
      ]
     },
     "execution_count": 1270,
     "metadata": {},
     "output_type": "execute_result"
    }
   ],
   "source": [
    "p1_conf = weratedog_clean.p1_conf.mean()\n",
    "p1_conf"
   ]
  },
  {
   "cell_type": "code",
   "execution_count": 1174,
   "metadata": {},
   "outputs": [
    {
     "data": {
      "text/plain": [
       "0.7510390689941812"
      ]
     },
     "execution_count": 1174,
     "metadata": {},
     "output_type": "execute_result"
    }
   ],
   "source": [
    "p2_dog = weratedog_clean.p2_dog.sum()\n",
    "p2_accuacy = p2_dog / weratedog_clean.p2_dog.count()\n",
    "p2_accuacy"
   ]
  },
  {
   "cell_type": "code",
   "execution_count": 1266,
   "metadata": {},
   "outputs": [
    {
     "data": {
      "text/plain": [
       "0.1346620802191243"
      ]
     },
     "execution_count": 1266,
     "metadata": {},
     "output_type": "execute_result"
    }
   ],
   "source": [
    "p2_conf = weratedog_clean.p2_conf.mean()\n",
    "p2_conf"
   ]
  },
  {
   "cell_type": "code",
   "execution_count": 1173,
   "metadata": {},
   "outputs": [
    {
     "data": {
      "text/plain": [
       "0.7223607647547797"
      ]
     },
     "execution_count": 1173,
     "metadata": {},
     "output_type": "execute_result"
    }
   ],
   "source": [
    "p3_dog = weratedog_clean.p3_dog.sum()\n",
    "p3_accuacy = p3_dog / weratedog_clean.p3_dog.count()\n",
    "p3_accuacy"
   ]
  },
  {
   "cell_type": "code",
   "execution_count": 1267,
   "metadata": {},
   "outputs": [
    {
     "data": {
      "text/plain": [
       "0.059649621127315464"
      ]
     },
     "execution_count": 1267,
     "metadata": {},
     "output_type": "execute_result"
    }
   ],
   "source": [
    "p3_conf = weratedog_clean.p3_conf.mean()\n",
    "p3_conf"
   ]
  },
  {
   "cell_type": "code",
   "execution_count": 1347,
   "metadata": {},
   "outputs": [
    {
     "data": {
      "text/html": [
       "<div>\n",
       "<style scoped>\n",
       "    .dataframe tbody tr th:only-of-type {\n",
       "        vertical-align: middle;\n",
       "    }\n",
       "\n",
       "    .dataframe tbody tr th {\n",
       "        vertical-align: top;\n",
       "    }\n",
       "\n",
       "    .dataframe thead th {\n",
       "        text-align: right;\n",
       "    }\n",
       "</style>\n",
       "<table border=\"1\" class=\"dataframe\">\n",
       "  <thead>\n",
       "    <tr style=\"text-align: right;\">\n",
       "      <th></th>\n",
       "      <th>method</th>\n",
       "      <th>accuacy</th>\n",
       "      <th>confident</th>\n",
       "    </tr>\n",
       "  </thead>\n",
       "  <tbody>\n",
       "    <tr>\n",
       "      <th>0</th>\n",
       "      <td>1</td>\n",
       "      <td>0.739817</td>\n",
       "      <td>0.598033</td>\n",
       "    </tr>\n",
       "    <tr>\n",
       "      <th>1</th>\n",
       "      <td>2</td>\n",
       "      <td>0.751039</td>\n",
       "      <td>0.134662</td>\n",
       "    </tr>\n",
       "    <tr>\n",
       "      <th>2</th>\n",
       "      <td>3</td>\n",
       "      <td>0.722361</td>\n",
       "      <td>0.059650</td>\n",
       "    </tr>\n",
       "  </tbody>\n",
       "</table>\n",
       "</div>"
      ],
      "text/plain": [
       "   method   accuacy  confident\n",
       "0       1  0.739817   0.598033\n",
       "1       2  0.751039   0.134662\n",
       "2       3  0.722361   0.059650"
      ]
     },
     "execution_count": 1347,
     "metadata": {},
     "output_type": "execute_result"
    }
   ],
   "source": [
    "prediction = {'method': [1,2,3],\n",
    "            'accuacy': [p1_accuacy,p2_accuacy,p3_accuacy],\n",
    "              'confident': [p1_conf,p2_conf,p3_conf]\n",
    "             }\n",
    "\n",
    "pred = pd.DataFrame(prediction) \n",
    "pred"
   ]
  },
  {
   "cell_type": "code",
   "execution_count": 1443,
   "metadata": {},
   "outputs": [
    {
     "data": {
      "image/png": "[encoded data removed]",
      "text/plain": [
       "<Figure size 432x288 with 1 Axes>"
      ]
     },
     "metadata": {
      "needs_background": "light"
     },
     "output_type": "display_data"
    }
   ],
   "source": [
    "ax = pred.plot.bar(x='method', y=['accuacy','confident'], rot=0)\n",
    "\n",
    "plt.yticks(np.arange(0.05, 0.8 +0.1, 0.1))\n",
    "\n",
    "plt.ylabel('precent')\n",
    "plt.title('Prediction of Different Method')\n",
    "plt.legend(prop={'size': 8} ,loc='upper right');"
   ]
  },
  {
   "cell_type": "markdown",
   "metadata": {},
   "source": [
    "- From the observation, 2nd prediction is the most accurate one, even though it is not confident about its prediction\n",
    "- Overall, all predictions do really good job"
   ]
  },
  {
   "cell_type": "markdown",
   "metadata": {},
   "source": [
    "<a id='Conclusion'></a>\n",
    "#### Part VI - Conclusion\n"
   ]
  },
  {
   "cell_type": "markdown",
   "metadata": {},
   "source": [
    "We did the data weangling for scratch for this project. we asked some questions based on the score for the dog, the breed of the dog, favorate and retweet count of the posting. There are some limitations, for example, there might still some duplicated happend becase of the melting of the breed of dog, but since we don't have a lot of datasets, we decide to keep the original one and only drop the whole duplicated for further analyzing."
   ]
  },
  {
   "cell_type": "code",
   "execution_count": null,
   "metadata": {},
   "outputs": [],
   "source": []
  }
 ],
 "metadata": {
  "kernelspec": {
   "display_name": "Python 3",
   "language": "python",
   "name": "python3"
  },
  "language_info": {
   "codemirror_mode": {
    "name": "ipython",
    "version": 3
   },
   "file_extension": ".py",
   "mimetype": "text/x-python",
   "name": "python",
   "nbconvert_exporter": "python",
   "pygments_lexer": "ipython3",
   "version": "3.7.4"
  }
 },
 "nbformat": 4,
 "nbformat_minor": 2
}
