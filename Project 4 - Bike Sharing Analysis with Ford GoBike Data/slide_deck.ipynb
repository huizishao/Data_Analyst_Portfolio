{
 "cells": [
  {
   "cell_type": "markdown",
   "metadata": {
    "slideshow": {
     "slide_type": "slide"
    }
   },
   "source": [
    "# Bike Sharing Analysis with Ford GoBike Data\n",
    "## Huizi Shao"
   ]
  },
  {
   "cell_type": "markdown",
   "metadata": {
    "slideshow": {
     "slide_type": "slide"
    }
   },
   "source": [
    "## Investigation Overview\n",
    "\n",
    "> In this investigation, I wanted to look at the characteristics of bike riding market. The bike riding usage count related to the gender, user type, time and duration of riding.\n",
    "\n",
    "\n",
    "## Dataset Overview\n",
    "\n",
    "> The data consisted of 20 features and 2805001 data in the end after data wrangling. The attributes included the infomation of the member users and for the general bike riding (id, station, duration, etc). The duplicated and ambigulous data points (columns) are removed for the analyzing."
   ]
  },
  {
   "cell_type": "code",
   "execution_count": 1,
   "metadata": {
    "slideshow": {
     "slide_type": "skip"
    }
   },
   "outputs": [],
   "source": [
    "# import all packages and set plots to be embedded inline\n",
    "import numpy as np\n",
    "import pandas as pd\n",
    "import matplotlib.pyplot as plt\n",
    "import seaborn as sb\n",
    "\n",
    "%matplotlib inline\n",
    "\n",
    "# suppress warnings from final output\n",
    "import warnings\n",
    "warnings.simplefilter(\"ignore\")"
   ]
  },
  {
   "cell_type": "code",
   "execution_count": 2,
   "metadata": {
    "slideshow": {
     "slide_type": "skip"
    }
   },
   "outputs": [
    {
     "data": {
      "text/html": [
       "<div>\n",
       "<style scoped>\n",
       "    .dataframe tbody tr th:only-of-type {\n",
       "        vertical-align: middle;\n",
       "    }\n",
       "\n",
       "    .dataframe tbody tr th {\n",
       "        vertical-align: top;\n",
       "    }\n",
       "\n",
       "    .dataframe thead th {\n",
       "        text-align: right;\n",
       "    }\n",
       "</style>\n",
       "<table border=\"1\" class=\"dataframe\">\n",
       "  <thead>\n",
       "    <tr style=\"text-align: right;\">\n",
       "      <th></th>\n",
       "      <th>duration_sec</th>\n",
       "      <th>start_time</th>\n",
       "      <th>end_time</th>\n",
       "      <th>start_station_id</th>\n",
       "      <th>start_station_name</th>\n",
       "      <th>start_station_latitude</th>\n",
       "      <th>start_station_longitude</th>\n",
       "      <th>end_station_id</th>\n",
       "      <th>end_station_name</th>\n",
       "      <th>end_station_latitude</th>\n",
       "      <th>end_station_longitude</th>\n",
       "      <th>bike_id</th>\n",
       "      <th>user_type</th>\n",
       "      <th>member_birth_year</th>\n",
       "      <th>member_gender</th>\n",
       "      <th>bike_share_for_all_trip</th>\n",
       "      <th>duration_min</th>\n",
       "      <th>age_member</th>\n",
       "      <th>month_start</th>\n",
       "      <th>start_time_month</th>\n",
       "    </tr>\n",
       "  </thead>\n",
       "  <tbody>\n",
       "    <tr>\n",
       "      <th>0</th>\n",
       "      <td>598.0</td>\n",
       "      <td>2018-02-28 23:59:47.097</td>\n",
       "      <td>2018-03-01 00:09:45.187</td>\n",
       "      <td>284.0</td>\n",
       "      <td>Yerba Buena Center for the Arts (Howard St at ...</td>\n",
       "      <td>37.784872</td>\n",
       "      <td>-122.400876</td>\n",
       "      <td>114.0</td>\n",
       "      <td>Rhode Island St at 17th St</td>\n",
       "      <td>37.764478</td>\n",
       "      <td>-122.402570</td>\n",
       "      <td>1035.0</td>\n",
       "      <td>Subscriber</td>\n",
       "      <td>1988.0</td>\n",
       "      <td>Male</td>\n",
       "      <td>No</td>\n",
       "      <td>9.966667</td>\n",
       "      <td>32.0</td>\n",
       "      <td>2</td>\n",
       "      <td>18-02</td>\n",
       "    </tr>\n",
       "    <tr>\n",
       "      <th>1</th>\n",
       "      <td>943.0</td>\n",
       "      <td>2018-02-28 23:21:16.495</td>\n",
       "      <td>2018-02-28 23:36:59.974</td>\n",
       "      <td>6.0</td>\n",
       "      <td>The Embarcadero at Sansome St</td>\n",
       "      <td>37.804770</td>\n",
       "      <td>-122.403234</td>\n",
       "      <td>324.0</td>\n",
       "      <td>Union Square (Powell St at Post St)</td>\n",
       "      <td>37.788300</td>\n",
       "      <td>-122.408531</td>\n",
       "      <td>1673.0</td>\n",
       "      <td>Customer</td>\n",
       "      <td>1987.0</td>\n",
       "      <td>Male</td>\n",
       "      <td>No</td>\n",
       "      <td>15.716667</td>\n",
       "      <td>33.0</td>\n",
       "      <td>2</td>\n",
       "      <td>18-02</td>\n",
       "    </tr>\n",
       "    <tr>\n",
       "      <th>2</th>\n",
       "      <td>885.0</td>\n",
       "      <td>2018-02-28 23:15:12.858</td>\n",
       "      <td>2018-02-28 23:29:58.608</td>\n",
       "      <td>308.0</td>\n",
       "      <td>San Pedro Square</td>\n",
       "      <td>37.336802</td>\n",
       "      <td>-121.894090</td>\n",
       "      <td>297.0</td>\n",
       "      <td>Locust St at Grant St</td>\n",
       "      <td>37.322980</td>\n",
       "      <td>-121.887931</td>\n",
       "      <td>1839.0</td>\n",
       "      <td>Subscriber</td>\n",
       "      <td>1976.0</td>\n",
       "      <td>Female</td>\n",
       "      <td>Yes</td>\n",
       "      <td>14.750000</td>\n",
       "      <td>44.0</td>\n",
       "      <td>2</td>\n",
       "      <td>18-02</td>\n",
       "    </tr>\n",
       "    <tr>\n",
       "      <th>3</th>\n",
       "      <td>921.0</td>\n",
       "      <td>2018-02-28 23:14:19.170</td>\n",
       "      <td>2018-02-28 23:29:40.437</td>\n",
       "      <td>312.0</td>\n",
       "      <td>San Jose Diridon Station</td>\n",
       "      <td>37.329732</td>\n",
       "      <td>-121.901782</td>\n",
       "      <td>288.0</td>\n",
       "      <td>Mission St at 1st St</td>\n",
       "      <td>37.350964</td>\n",
       "      <td>-121.902016</td>\n",
       "      <td>2656.0</td>\n",
       "      <td>Customer</td>\n",
       "      <td>1997.0</td>\n",
       "      <td>Male</td>\n",
       "      <td>No</td>\n",
       "      <td>15.350000</td>\n",
       "      <td>23.0</td>\n",
       "      <td>2</td>\n",
       "      <td>18-02</td>\n",
       "    </tr>\n",
       "    <tr>\n",
       "      <th>4</th>\n",
       "      <td>285.0</td>\n",
       "      <td>2018-02-28 23:21:19.631</td>\n",
       "      <td>2018-02-28 23:26:05.405</td>\n",
       "      <td>198.0</td>\n",
       "      <td>Snow Park</td>\n",
       "      <td>37.807813</td>\n",
       "      <td>-122.264496</td>\n",
       "      <td>196.0</td>\n",
       "      <td>Grand Ave at Perkins St</td>\n",
       "      <td>37.808894</td>\n",
       "      <td>-122.256460</td>\n",
       "      <td>144.0</td>\n",
       "      <td>Subscriber</td>\n",
       "      <td>1990.0</td>\n",
       "      <td>Female</td>\n",
       "      <td>No</td>\n",
       "      <td>4.750000</td>\n",
       "      <td>30.0</td>\n",
       "      <td>2</td>\n",
       "      <td>18-02</td>\n",
       "    </tr>\n",
       "    <tr>\n",
       "      <th>...</th>\n",
       "      <td>...</td>\n",
       "      <td>...</td>\n",
       "      <td>...</td>\n",
       "      <td>...</td>\n",
       "      <td>...</td>\n",
       "      <td>...</td>\n",
       "      <td>...</td>\n",
       "      <td>...</td>\n",
       "      <td>...</td>\n",
       "      <td>...</td>\n",
       "      <td>...</td>\n",
       "      <td>...</td>\n",
       "      <td>...</td>\n",
       "      <td>...</td>\n",
       "      <td>...</td>\n",
       "      <td>...</td>\n",
       "      <td>...</td>\n",
       "      <td>...</td>\n",
       "      <td>...</td>\n",
       "      <td>...</td>\n",
       "    </tr>\n",
       "    <tr>\n",
       "      <th>2804996</th>\n",
       "      <td>480.0</td>\n",
       "      <td>2019-02-01 00:04:49.724</td>\n",
       "      <td>2019-02-01 00:12:50.034</td>\n",
       "      <td>27.0</td>\n",
       "      <td>Beale St at Harrison St</td>\n",
       "      <td>37.788059</td>\n",
       "      <td>-122.391865</td>\n",
       "      <td>324.0</td>\n",
       "      <td>Union Square (Powell St at Post St)</td>\n",
       "      <td>37.788300</td>\n",
       "      <td>-122.408531</td>\n",
       "      <td>4832.0</td>\n",
       "      <td>Subscriber</td>\n",
       "      <td>1996.0</td>\n",
       "      <td>Male</td>\n",
       "      <td>No</td>\n",
       "      <td>8.000000</td>\n",
       "      <td>24.0</td>\n",
       "      <td>2</td>\n",
       "      <td>19-02</td>\n",
       "    </tr>\n",
       "    <tr>\n",
       "      <th>2804997</th>\n",
       "      <td>313.0</td>\n",
       "      <td>2019-02-01 00:05:34.744</td>\n",
       "      <td>2019-02-01 00:10:48.502</td>\n",
       "      <td>21.0</td>\n",
       "      <td>Montgomery St BART Station (Market St at 2nd St)</td>\n",
       "      <td>37.789625</td>\n",
       "      <td>-122.400811</td>\n",
       "      <td>66.0</td>\n",
       "      <td>3rd St at Townsend St</td>\n",
       "      <td>37.778742</td>\n",
       "      <td>-122.392741</td>\n",
       "      <td>4960.0</td>\n",
       "      <td>Subscriber</td>\n",
       "      <td>1984.0</td>\n",
       "      <td>Male</td>\n",
       "      <td>No</td>\n",
       "      <td>5.216667</td>\n",
       "      <td>36.0</td>\n",
       "      <td>2</td>\n",
       "      <td>19-02</td>\n",
       "    </tr>\n",
       "    <tr>\n",
       "      <th>2804998</th>\n",
       "      <td>141.0</td>\n",
       "      <td>2019-02-01 00:06:05.549</td>\n",
       "      <td>2019-02-01 00:08:27.220</td>\n",
       "      <td>278.0</td>\n",
       "      <td>The Alameda at Bush St</td>\n",
       "      <td>37.331932</td>\n",
       "      <td>-121.904888</td>\n",
       "      <td>277.0</td>\n",
       "      <td>Morrison Ave at Julian St</td>\n",
       "      <td>37.333658</td>\n",
       "      <td>-121.908586</td>\n",
       "      <td>3824.0</td>\n",
       "      <td>Subscriber</td>\n",
       "      <td>1990.0</td>\n",
       "      <td>Male</td>\n",
       "      <td>Yes</td>\n",
       "      <td>2.350000</td>\n",
       "      <td>30.0</td>\n",
       "      <td>2</td>\n",
       "      <td>19-02</td>\n",
       "    </tr>\n",
       "    <tr>\n",
       "      <th>2804999</th>\n",
       "      <td>139.0</td>\n",
       "      <td>2019-02-01 00:05:34.360</td>\n",
       "      <td>2019-02-01 00:07:54.287</td>\n",
       "      <td>220.0</td>\n",
       "      <td>San Pablo Ave at MLK Jr Way</td>\n",
       "      <td>37.811351</td>\n",
       "      <td>-122.273422</td>\n",
       "      <td>216.0</td>\n",
       "      <td>San Pablo Ave at 27th St</td>\n",
       "      <td>37.817827</td>\n",
       "      <td>-122.275698</td>\n",
       "      <td>5095.0</td>\n",
       "      <td>Subscriber</td>\n",
       "      <td>1988.0</td>\n",
       "      <td>Male</td>\n",
       "      <td>No</td>\n",
       "      <td>2.316667</td>\n",
       "      <td>32.0</td>\n",
       "      <td>2</td>\n",
       "      <td>19-02</td>\n",
       "    </tr>\n",
       "    <tr>\n",
       "      <th>2805000</th>\n",
       "      <td>271.0</td>\n",
       "      <td>2019-02-01 00:00:20.636</td>\n",
       "      <td>2019-02-01 00:04:52.058</td>\n",
       "      <td>24.0</td>\n",
       "      <td>Spear St at Folsom St</td>\n",
       "      <td>37.789677</td>\n",
       "      <td>-122.390428</td>\n",
       "      <td>37.0</td>\n",
       "      <td>2nd St at Folsom St</td>\n",
       "      <td>37.785000</td>\n",
       "      <td>-122.395936</td>\n",
       "      <td>1057.0</td>\n",
       "      <td>Subscriber</td>\n",
       "      <td>1989.0</td>\n",
       "      <td>Male</td>\n",
       "      <td>No</td>\n",
       "      <td>4.516667</td>\n",
       "      <td>31.0</td>\n",
       "      <td>2</td>\n",
       "      <td>19-02</td>\n",
       "    </tr>\n",
       "  </tbody>\n",
       "</table>\n",
       "<p>2805001 rows × 20 columns</p>\n",
       "</div>"
      ],
      "text/plain": [
       "         duration_sec               start_time                 end_time  \\\n",
       "0               598.0  2018-02-28 23:59:47.097  2018-03-01 00:09:45.187   \n",
       "1               943.0  2018-02-28 23:21:16.495  2018-02-28 23:36:59.974   \n",
       "2               885.0  2018-02-28 23:15:12.858  2018-02-28 23:29:58.608   \n",
       "3               921.0  2018-02-28 23:14:19.170  2018-02-28 23:29:40.437   \n",
       "4               285.0  2018-02-28 23:21:19.631  2018-02-28 23:26:05.405   \n",
       "...               ...                      ...                      ...   \n",
       "2804996         480.0  2019-02-01 00:04:49.724  2019-02-01 00:12:50.034   \n",
       "2804997         313.0  2019-02-01 00:05:34.744  2019-02-01 00:10:48.502   \n",
       "2804998         141.0  2019-02-01 00:06:05.549  2019-02-01 00:08:27.220   \n",
       "2804999         139.0  2019-02-01 00:05:34.360  2019-02-01 00:07:54.287   \n",
       "2805000         271.0  2019-02-01 00:00:20.636  2019-02-01 00:04:52.058   \n",
       "\n",
       "         start_station_id                                 start_station_name  \\\n",
       "0                   284.0  Yerba Buena Center for the Arts (Howard St at ...   \n",
       "1                     6.0                      The Embarcadero at Sansome St   \n",
       "2                   308.0                                   San Pedro Square   \n",
       "3                   312.0                           San Jose Diridon Station   \n",
       "4                   198.0                                          Snow Park   \n",
       "...                   ...                                                ...   \n",
       "2804996              27.0                            Beale St at Harrison St   \n",
       "2804997              21.0   Montgomery St BART Station (Market St at 2nd St)   \n",
       "2804998             278.0                             The Alameda at Bush St   \n",
       "2804999             220.0                        San Pablo Ave at MLK Jr Way   \n",
       "2805000              24.0                              Spear St at Folsom St   \n",
       "\n",
       "         start_station_latitude  start_station_longitude  end_station_id  \\\n",
       "0                     37.784872              -122.400876           114.0   \n",
       "1                     37.804770              -122.403234           324.0   \n",
       "2                     37.336802              -121.894090           297.0   \n",
       "3                     37.329732              -121.901782           288.0   \n",
       "4                     37.807813              -122.264496           196.0   \n",
       "...                         ...                      ...             ...   \n",
       "2804996               37.788059              -122.391865           324.0   \n",
       "2804997               37.789625              -122.400811            66.0   \n",
       "2804998               37.331932              -121.904888           277.0   \n",
       "2804999               37.811351              -122.273422           216.0   \n",
       "2805000               37.789677              -122.390428            37.0   \n",
       "\n",
       "                            end_station_name  end_station_latitude  \\\n",
       "0                 Rhode Island St at 17th St             37.764478   \n",
       "1        Union Square (Powell St at Post St)             37.788300   \n",
       "2                      Locust St at Grant St             37.322980   \n",
       "3                       Mission St at 1st St             37.350964   \n",
       "4                    Grand Ave at Perkins St             37.808894   \n",
       "...                                      ...                   ...   \n",
       "2804996  Union Square (Powell St at Post St)             37.788300   \n",
       "2804997                3rd St at Townsend St             37.778742   \n",
       "2804998            Morrison Ave at Julian St             37.333658   \n",
       "2804999             San Pablo Ave at 27th St             37.817827   \n",
       "2805000                  2nd St at Folsom St             37.785000   \n",
       "\n",
       "         end_station_longitude  bike_id   user_type  member_birth_year  \\\n",
       "0                  -122.402570   1035.0  Subscriber             1988.0   \n",
       "1                  -122.408531   1673.0    Customer             1987.0   \n",
       "2                  -121.887931   1839.0  Subscriber             1976.0   \n",
       "3                  -121.902016   2656.0    Customer             1997.0   \n",
       "4                  -122.256460    144.0  Subscriber             1990.0   \n",
       "...                        ...      ...         ...                ...   \n",
       "2804996            -122.408531   4832.0  Subscriber             1996.0   \n",
       "2804997            -122.392741   4960.0  Subscriber             1984.0   \n",
       "2804998            -121.908586   3824.0  Subscriber             1990.0   \n",
       "2804999            -122.275698   5095.0  Subscriber             1988.0   \n",
       "2805000            -122.395936   1057.0  Subscriber             1989.0   \n",
       "\n",
       "        member_gender bike_share_for_all_trip  duration_min  age_member  \\\n",
       "0                Male                      No      9.966667        32.0   \n",
       "1                Male                      No     15.716667        33.0   \n",
       "2              Female                     Yes     14.750000        44.0   \n",
       "3                Male                      No     15.350000        23.0   \n",
       "4              Female                      No      4.750000        30.0   \n",
       "...               ...                     ...           ...         ...   \n",
       "2804996          Male                      No      8.000000        24.0   \n",
       "2804997          Male                      No      5.216667        36.0   \n",
       "2804998          Male                     Yes      2.350000        30.0   \n",
       "2804999          Male                      No      2.316667        32.0   \n",
       "2805000          Male                      No      4.516667        31.0   \n",
       "\n",
       "         month_start start_time_month  \n",
       "0                  2            18-02  \n",
       "1                  2            18-02  \n",
       "2                  2            18-02  \n",
       "3                  2            18-02  \n",
       "4                  2            18-02  \n",
       "...              ...              ...  \n",
       "2804996            2            19-02  \n",
       "2804997            2            19-02  \n",
       "2804998            2            19-02  \n",
       "2804999            2            19-02  \n",
       "2805000            2            19-02  \n",
       "\n",
       "[2805001 rows x 20 columns]"
      ]
     },
     "execution_count": 2,
     "metadata": {},
     "output_type": "execute_result"
    }
   ],
   "source": [
    "# load in the dataset into a pandas dataframe\n",
    "df = pd.read_csv('data_1.csv')\n",
    "df_copy = pd.read_csv('df_copy.csv')\n",
    "df_copy"
   ]
  },
  {
   "cell_type": "markdown",
   "metadata": {
    "slideshow": {
     "slide_type": "slide"
    }
   },
   "source": [
    "## (Visualization 1)\n",
    "\n",
    "> Distribution of the Duration in min\n",
    "\n",
    "> Duration (min) has the distribution like normal when plotted on a log-scale, with mean around 10 min. In general, people have short rides\n"
   ]
  },
  {
   "cell_type": "code",
   "execution_count": 3,
   "metadata": {
    "slideshow": {
     "slide_type": "subslide"
    }
   },
   "outputs": [
    {
     "data": {
      "image/png": "[encoded data removed]",
      "text/plain": [
       "<Figure size 576x360 with 1 Axes>"
      ]
     },
     "metadata": {
      "needs_background": "light"
     },
     "output_type": "display_data"
    }
   ],
   "source": [
    "df['duration_min'] = df['duration_sec'] / 60\n",
    "\n",
    "log_binsize = 0.05\n",
    "bins = 10 ** np.arange(0, np.log10(df['duration_min'].max())+log_binsize, log_binsize)\n",
    "\n",
    "plt.figure(figsize=[8, 5])\n",
    "plt.hist(data = df, x = 'duration_min', bins = bins)\n",
    "plt.xscale('log')\n",
    "plt.xlim(0,3000)\n",
    "plt.xticks([1 , 10, 100, 1000])\n",
    "plt.xlabel('Duration (min)')\n",
    "plt.ylabel('Frequency')\n",
    "plt.title('Distribution of Duration')\n",
    "plt.show();"
   ]
  },
  {
   "cell_type": "markdown",
   "metadata": {
    "collapsed": true,
    "slideshow": {
     "slide_type": "slide"
    }
   },
   "source": [
    "## (Visualization 2)\n",
    "\n",
    "> Distribution of the age groups pf members\n",
    "\n",
    "> We find that most of the member users are around 30 to 40 years old, Then 20-30 years old"
   ]
  },
  {
   "cell_type": "code",
   "execution_count": 4,
   "metadata": {
    "slideshow": {
     "slide_type": "subslide"
    }
   },
   "outputs": [
    {
     "data": {
      "image/png": "[encoded data removed]",
      "text/plain": [
       "<Figure size 1440x216 with 1 Axes>"
      ]
     },
     "metadata": {
      "needs_background": "light"
     },
     "output_type": "display_data"
    }
   ],
   "source": [
    "age_idx = df_copy.age_member.value_counts().index\n",
    "age_count = df_copy.age_member.value_counts().values\n",
    "\n",
    "age_list = df_copy.age_member.value_counts().index\n",
    "\n",
    "from collections import defaultdict\n",
    "ages = defaultdict(int)\n",
    "\n",
    "for i in range(len(age_idx)):\n",
    "    if age_idx[i] > 50:\n",
    "        ages['50-60'] += age_count[i]\n",
    "    elif age_idx[i] > 40:\n",
    "        ages['40-50'] += age_count[i]\n",
    "    elif age_idx[i] > 30:\n",
    "        ages['30-40'] += age_count[i]\n",
    "    elif age_idx[i] > 20:\n",
    "        ages['20-30'] += age_count[i]\n",
    "    elif age_idx[i] > 10:\n",
    "        ages['10-20'] += age_count[i]     \n",
    "\n",
    "\n",
    "plt.figure(figsize=(20, 3))\n",
    "\n",
    "keys = ages.keys()\n",
    "values = ages.values()\n",
    "plt.bar(keys, values)\n",
    "plt.xticks(rotation = 90)\n",
    "plt.xlabel('Age Group',fontsize =13)\n",
    "plt.ylabel('Count',fontsize =13)\n",
    "plt.title('Age Groups distritbuion of members', fontsize =15);"
   ]
  },
  {
   "cell_type": "markdown",
   "metadata": {
    "slideshow": {
     "slide_type": "slide"
    }
   },
   "source": [
    "## (Visualization 3)\n",
    "\n",
    "> Market Growing based on month for different user type\n",
    "\n",
    ">  We can see the Bike sharing market growing quickly from 17-06 to 19-04. The Suscribers grew really fast in general, customers stay the similat fluctuation and interestingly, for suscribers, there is a big drop between 18-11 and 18-12, and spikes afterwards, it might need further investigation\n"
   ]
  },
  {
   "cell_type": "code",
   "execution_count": 5,
   "metadata": {
    "slideshow": {
     "slide_type": "subslide"
    }
   },
   "outputs": [
    {
     "data": {
      "image/png": "[encoded data removed]",
      "text/plain": [
       "<Figure size 1440x720 with 1 Axes>"
      ]
     },
     "metadata": {
      "needs_background": "light"
     },
     "output_type": "display_data"
    }
   ],
   "source": [
    "month_user_type = df_copy.groupby(['start_time_month','user_type']).size().reset_index()\n",
    "\n",
    "plt.figure(figsize =(20, 10))\n",
    "\n",
    "sb.pointplot(data = month_user_type, x='start_time_month', y=0, hue ='user_type', scale =1)\n",
    "plt.xlabel('Month', fontsize = 13)\n",
    "plt.ylabel('Count', fontsize = 13)\n",
    "plt.title('Market growing based on month for different user type',fontsize = 15)\n",
    "plt.legend(prop={'size': 15} ,loc='upper left');"
   ]
  },
  {
   "cell_type": "markdown",
   "metadata": {
    "slideshow": {
     "slide_type": "notes"
    }
   },
   "source": [
    "> Once you're ready to finish your presentation, check your output by using\n",
    "nbconvert to export the notebook and set up a server for the slides. From the\n",
    "terminal or command line, use the following expression:\n",
    "> > `jupyter nbconvert <file_name>.ipynb --to slides --post serve --template output_toggle`\n",
    "\n",
    "> This should open a tab in your web browser where you can scroll through your\n",
    "presentation. Sub-slides can be accessed by pressing 'down' when viewing its parent\n",
    "slide. Make sure you remove all of the quote-formatted guide notes like this one\n",
    "before you finish your presentation!"
   ]
  },
  {
   "cell_type": "code",
   "execution_count": null,
   "metadata": {},
   "outputs": [],
   "source": []
  }
 ],
 "metadata": {
  "celltoolbar": "Slideshow",
  "kernelspec": {
   "display_name": "Python 3",
   "language": "python",
   "name": "python3"
  },
  "language_info": {
   "codemirror_mode": {
    "name": "ipython",
    "version": 3
   },
   "file_extension": ".py",
   "mimetype": "text/x-python",
   "name": "python",
   "nbconvert_exporter": "python",
   "pygments_lexer": "ipython3",
   "version": "3.7.4"
  }
 },
 "nbformat": 4,
 "nbformat_minor": 2
}
